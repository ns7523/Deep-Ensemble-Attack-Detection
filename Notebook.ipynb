{
 "cells": [
  {
   "cell_type": "code",
   "execution_count": 1,
   "metadata": {},
   "outputs": [],
   "source": [
    "import warnings\n",
    "warnings.filterwarnings('ignore')"
   ]
  },
  {
   "cell_type": "code",
   "execution_count": 2,
   "metadata": {
    "execution": {
     "iopub.execute_input": "2022-10-30T16:46:06.128479Z",
     "iopub.status.busy": "2022-10-30T16:46:06.127027Z",
     "iopub.status.idle": "2022-10-30T16:46:13.550408Z",
     "shell.execute_reply": "2022-10-30T16:46:13.549224Z"
    },
    "id": "CXLfwvHPvXWT",
    "papermill": {
     "duration": 7.436351,
     "end_time": "2022-10-30T16:46:13.553203",
     "exception": false,
     "start_time": "2022-10-30T16:46:06.116852",
     "status": "completed"
    },
    "tags": []
   },
   "outputs": [],
   "source": [
    "# importing required libraries\n",
    "import numpy as np\n",
    "import pandas as pd\n",
    "import pickle # saving and loading trained model\n",
    "from os import path\n",
    "\n",
    "# importing required libraries for normalizing data\n",
    "from sklearn import preprocessing\n",
    "from sklearn.preprocessing import (StandardScaler, OrdinalEncoder,LabelEncoder, MinMaxScaler, OneHotEncoder)\n",
    "from sklearn.preprocessing import Normalizer, MaxAbsScaler , RobustScaler, PowerTransformer\n",
    "\n",
    "# importing library for plotting\n",
    "import matplotlib.pyplot as plt\n",
    "import seaborn as sns\n",
    "\n",
    "from sklearn import metrics\n",
    "from sklearn.metrics import accuracy_score # for calculating accuracy of model\n",
    "from sklearn.model_selection import train_test_split # for splitting the dataset for training and testing\n",
    "from sklearn.metrics import classification_report # for generating a classification report of model\n",
    "\n",
    "from sklearn.metrics import precision_score\n",
    "from sklearn.metrics import recall_score\n",
    "from sklearn.metrics import f1_score\n",
    "\n",
    "from sklearn.metrics import roc_auc_score\n",
    "from sklearn.metrics import roc_curve, auc\n",
    "\n",
    "import tensorflow as tf\n",
    "from tensorflow.keras.utils import to_categorical\n",
    "\n",
    "from keras.layers import Dense, Conv1D, MaxPool1D, Flatten, Dropout # importing dense layer\n",
    "from keras.models import Sequential #importing Sequential layer\n",
    "from keras.layers import Input\n",
    "from keras.models import Model\n",
    "# representation of model layers\n",
    "from keras.utils.vis_utils import plot_model"
   ]
  },
  {
   "cell_type": "code",
   "execution_count": 3,
   "metadata": {},
   "outputs": [
    {
     "name": "stdout",
     "output_type": "stream",
     "text": [
      "1 Physical GPU, 2 Logical GPUs\n"
     ]
    }
   ],
   "source": [
    "import tensorflow as tf\n",
    "gpus = tf.config.list_physical_devices('GPU')\n",
    "if gpus:\n",
    "  # Create 2 virtual GPUs with 1GB memory each\n",
    "  try:\n",
    "    tf.config.set_logical_device_configuration(\n",
    "        gpus[0],\n",
    "        [tf.config.LogicalDeviceConfiguration(memory_limit=1024),\n",
    "         tf.config.LogicalDeviceConfiguration(memory_limit=1024)])\n",
    "    logical_gpus = tf.config.list_logical_devices('GPU')\n",
    "    print(len(gpus), \"Physical GPU,\", len(logical_gpus), \"Logical GPUs\")\n",
    "  except RuntimeError as e:\n",
    "    # Virtual devices must be set before GPUs have been initialized\n",
    "    print(e)"
   ]
  },
  {
   "cell_type": "markdown",
   "metadata": {
    "id": "XgFIb5Z1UI_X",
    "papermill": {
     "duration": 0.008135,
     "end_time": "2022-10-30T16:46:13.569955",
     "exception": false,
     "start_time": "2022-10-30T16:46:13.561820",
     "status": "completed"
    },
    "tags": []
   },
   "source": [
    "## Reading Data"
   ]
  },
  {
   "cell_type": "code",
   "execution_count": 4,
   "metadata": {
    "execution": {
     "iopub.execute_input": "2022-10-30T16:46:13.588568Z",
     "iopub.status.busy": "2022-10-30T16:46:13.587902Z",
     "iopub.status.idle": "2022-10-30T16:46:13.594235Z",
     "shell.execute_reply": "2022-10-30T16:46:13.593385Z"
    },
    "id": "TSdvFAkVhBbF",
    "papermill": {
     "duration": 0.017747,
     "end_time": "2022-10-30T16:46:13.596190",
     "exception": false,
     "start_time": "2022-10-30T16:46:13.578443",
     "status": "completed"
    },
    "tags": []
   },
   "outputs": [],
   "source": [
    "feature=[\"duration\",\"protocol_type\",\"service\",\"flag\",\"src_bytes\",\n",
    "    \"dst_bytes\",\"land\",\"wrong_fragment\",\"urgent\",\"hot\",\"num_failed_logins\",\n",
    "    \"logged_in\",\"num_compromised\",\"root_shell\",\"su_attempted\",\"num_root\",\n",
    "    \"num_file_creations\",\"num_shells\",\"num_access_files\",\"num_outbound_cmds\",\n",
    "    \"is_host_login\",\"is_guest_login\",\"count\",\"srv_count\",\"serror_rate\",\n",
    "    \"srv_serror_rate\",\"rerror_rate\",\"srv_rerror_rate\",\"same_srv_rate\",\n",
    "    \"diff_srv_rate\",\"srv_diff_host_rate\",\"dst_host_count\",\"dst_host_srv_count\",\n",
    "    \"dst_host_same_srv_rate\",\"dst_host_diff_srv_rate\",\"dst_host_same_src_port_rate\",\n",
    "    \"dst_host_srv_diff_host_rate\",\"dst_host_serror_rate\",\"dst_host_srv_serror_rate\",\n",
    "    \"dst_host_rerror_rate\",\"dst_host_srv_rerror_rate\",\"target\"]"
   ]
  },
  {
   "cell_type": "code",
   "execution_count": 5,
   "metadata": {
    "execution": {
     "iopub.execute_input": "2022-10-30T16:46:13.616547Z",
     "iopub.status.busy": "2022-10-30T16:46:13.615886Z",
     "iopub.status.idle": "2022-10-30T16:46:15.481680Z",
     "shell.execute_reply": "2022-10-30T16:46:15.480647Z"
    },
    "id": "mu4fXAznhB6z",
    "papermill": {
     "duration": 1.878168,
     "end_time": "2022-10-30T16:46:15.484341",
     "exception": false,
     "start_time": "2022-10-30T16:46:13.606173",
     "status": "completed"
    },
    "tags": []
   },
   "outputs": [],
   "source": [
    "train='kddcup/kddcup.data_10_percent.gz'\n",
    "test='kddcup/kddcup.testdata.unlabeled.gz'\n",
    "test21='kddcup/nsl-kdd/KDDTest-21.txt'\n",
    "train_data=pd.read_csv(train,names=feature)\n",
    "# test_data=pd.read_csv(test,names=feature)"
   ]
  },
  {
   "cell_type": "code",
   "execution_count": 6,
   "metadata": {
    "execution": {
     "iopub.execute_input": "2022-10-30T16:46:15.502525Z",
     "iopub.status.busy": "2022-10-30T16:46:15.502164Z",
     "iopub.status.idle": "2022-10-30T16:46:15.506882Z",
     "shell.execute_reply": "2022-10-30T16:46:15.505884Z"
    },
    "id": "mRCm4uU-hFw8",
    "papermill": {
     "duration": 0.016191,
     "end_time": "2022-10-30T16:46:15.509058",
     "exception": false,
     "start_time": "2022-10-30T16:46:15.492867",
     "status": "completed"
    },
    "tags": []
   },
   "outputs": [],
   "source": [
    "# test_21 = pd.read_csv(test21, names= feature)"
   ]
  },
  {
   "cell_type": "code",
   "execution_count": 7,
   "metadata": {
    "execution": {
     "iopub.execute_input": "2022-10-30T16:46:15.527650Z",
     "iopub.status.busy": "2022-10-30T16:46:15.527270Z",
     "iopub.status.idle": "2022-10-30T16:46:15.703675Z",
     "shell.execute_reply": "2022-10-30T16:46:15.702560Z"
    },
    "id": "Aerw00jLh4pN",
    "outputId": "2e679869-58fe-4b66-f18b-e45e366e847f",
    "papermill": {
     "duration": 0.189383,
     "end_time": "2022-10-30T16:46:15.707096",
     "exception": false,
     "start_time": "2022-10-30T16:46:15.517713",
     "status": "completed"
    },
    "tags": []
   },
   "outputs": [
    {
     "data": {
      "text/html": [
       "<div>\n",
       "<style scoped>\n",
       "    .dataframe tbody tr th:only-of-type {\n",
       "        vertical-align: middle;\n",
       "    }\n",
       "\n",
       "    .dataframe tbody tr th {\n",
       "        vertical-align: top;\n",
       "    }\n",
       "\n",
       "    .dataframe thead th {\n",
       "        text-align: right;\n",
       "    }\n",
       "</style>\n",
       "<table border=\"1\" class=\"dataframe\">\n",
       "  <thead>\n",
       "    <tr style=\"text-align: right;\">\n",
       "      <th></th>\n",
       "      <th>duration</th>\n",
       "      <th>protocol_type</th>\n",
       "      <th>service</th>\n",
       "      <th>flag</th>\n",
       "      <th>src_bytes</th>\n",
       "      <th>dst_bytes</th>\n",
       "      <th>land</th>\n",
       "      <th>wrong_fragment</th>\n",
       "      <th>urgent</th>\n",
       "      <th>hot</th>\n",
       "      <th>...</th>\n",
       "      <th>dst_host_srv_count</th>\n",
       "      <th>dst_host_same_srv_rate</th>\n",
       "      <th>dst_host_diff_srv_rate</th>\n",
       "      <th>dst_host_same_src_port_rate</th>\n",
       "      <th>dst_host_srv_diff_host_rate</th>\n",
       "      <th>dst_host_serror_rate</th>\n",
       "      <th>dst_host_srv_serror_rate</th>\n",
       "      <th>dst_host_rerror_rate</th>\n",
       "      <th>dst_host_srv_rerror_rate</th>\n",
       "      <th>target</th>\n",
       "    </tr>\n",
       "  </thead>\n",
       "  <tbody>\n",
       "    <tr>\n",
       "      <th>0</th>\n",
       "      <td>0</td>\n",
       "      <td>tcp</td>\n",
       "      <td>http</td>\n",
       "      <td>SF</td>\n",
       "      <td>181</td>\n",
       "      <td>5450</td>\n",
       "      <td>0</td>\n",
       "      <td>0</td>\n",
       "      <td>0</td>\n",
       "      <td>0</td>\n",
       "      <td>...</td>\n",
       "      <td>9</td>\n",
       "      <td>1.0</td>\n",
       "      <td>0.0</td>\n",
       "      <td>0.11</td>\n",
       "      <td>0.00</td>\n",
       "      <td>0.00</td>\n",
       "      <td>0.00</td>\n",
       "      <td>0.0</td>\n",
       "      <td>0.0</td>\n",
       "      <td>normal.</td>\n",
       "    </tr>\n",
       "    <tr>\n",
       "      <th>1</th>\n",
       "      <td>0</td>\n",
       "      <td>tcp</td>\n",
       "      <td>http</td>\n",
       "      <td>SF</td>\n",
       "      <td>239</td>\n",
       "      <td>486</td>\n",
       "      <td>0</td>\n",
       "      <td>0</td>\n",
       "      <td>0</td>\n",
       "      <td>0</td>\n",
       "      <td>...</td>\n",
       "      <td>19</td>\n",
       "      <td>1.0</td>\n",
       "      <td>0.0</td>\n",
       "      <td>0.05</td>\n",
       "      <td>0.00</td>\n",
       "      <td>0.00</td>\n",
       "      <td>0.00</td>\n",
       "      <td>0.0</td>\n",
       "      <td>0.0</td>\n",
       "      <td>normal.</td>\n",
       "    </tr>\n",
       "    <tr>\n",
       "      <th>2</th>\n",
       "      <td>0</td>\n",
       "      <td>tcp</td>\n",
       "      <td>http</td>\n",
       "      <td>SF</td>\n",
       "      <td>235</td>\n",
       "      <td>1337</td>\n",
       "      <td>0</td>\n",
       "      <td>0</td>\n",
       "      <td>0</td>\n",
       "      <td>0</td>\n",
       "      <td>...</td>\n",
       "      <td>29</td>\n",
       "      <td>1.0</td>\n",
       "      <td>0.0</td>\n",
       "      <td>0.03</td>\n",
       "      <td>0.00</td>\n",
       "      <td>0.00</td>\n",
       "      <td>0.00</td>\n",
       "      <td>0.0</td>\n",
       "      <td>0.0</td>\n",
       "      <td>normal.</td>\n",
       "    </tr>\n",
       "    <tr>\n",
       "      <th>3</th>\n",
       "      <td>0</td>\n",
       "      <td>tcp</td>\n",
       "      <td>http</td>\n",
       "      <td>SF</td>\n",
       "      <td>219</td>\n",
       "      <td>1337</td>\n",
       "      <td>0</td>\n",
       "      <td>0</td>\n",
       "      <td>0</td>\n",
       "      <td>0</td>\n",
       "      <td>...</td>\n",
       "      <td>39</td>\n",
       "      <td>1.0</td>\n",
       "      <td>0.0</td>\n",
       "      <td>0.03</td>\n",
       "      <td>0.00</td>\n",
       "      <td>0.00</td>\n",
       "      <td>0.00</td>\n",
       "      <td>0.0</td>\n",
       "      <td>0.0</td>\n",
       "      <td>normal.</td>\n",
       "    </tr>\n",
       "    <tr>\n",
       "      <th>4</th>\n",
       "      <td>0</td>\n",
       "      <td>tcp</td>\n",
       "      <td>http</td>\n",
       "      <td>SF</td>\n",
       "      <td>217</td>\n",
       "      <td>2032</td>\n",
       "      <td>0</td>\n",
       "      <td>0</td>\n",
       "      <td>0</td>\n",
       "      <td>0</td>\n",
       "      <td>...</td>\n",
       "      <td>49</td>\n",
       "      <td>1.0</td>\n",
       "      <td>0.0</td>\n",
       "      <td>0.02</td>\n",
       "      <td>0.00</td>\n",
       "      <td>0.00</td>\n",
       "      <td>0.00</td>\n",
       "      <td>0.0</td>\n",
       "      <td>0.0</td>\n",
       "      <td>normal.</td>\n",
       "    </tr>\n",
       "    <tr>\n",
       "      <th>...</th>\n",
       "      <td>...</td>\n",
       "      <td>...</td>\n",
       "      <td>...</td>\n",
       "      <td>...</td>\n",
       "      <td>...</td>\n",
       "      <td>...</td>\n",
       "      <td>...</td>\n",
       "      <td>...</td>\n",
       "      <td>...</td>\n",
       "      <td>...</td>\n",
       "      <td>...</td>\n",
       "      <td>...</td>\n",
       "      <td>...</td>\n",
       "      <td>...</td>\n",
       "      <td>...</td>\n",
       "      <td>...</td>\n",
       "      <td>...</td>\n",
       "      <td>...</td>\n",
       "      <td>...</td>\n",
       "      <td>...</td>\n",
       "      <td>...</td>\n",
       "    </tr>\n",
       "    <tr>\n",
       "      <th>494016</th>\n",
       "      <td>0</td>\n",
       "      <td>tcp</td>\n",
       "      <td>http</td>\n",
       "      <td>SF</td>\n",
       "      <td>310</td>\n",
       "      <td>1881</td>\n",
       "      <td>0</td>\n",
       "      <td>0</td>\n",
       "      <td>0</td>\n",
       "      <td>0</td>\n",
       "      <td>...</td>\n",
       "      <td>255</td>\n",
       "      <td>1.0</td>\n",
       "      <td>0.0</td>\n",
       "      <td>0.01</td>\n",
       "      <td>0.05</td>\n",
       "      <td>0.00</td>\n",
       "      <td>0.01</td>\n",
       "      <td>0.0</td>\n",
       "      <td>0.0</td>\n",
       "      <td>normal.</td>\n",
       "    </tr>\n",
       "    <tr>\n",
       "      <th>494017</th>\n",
       "      <td>0</td>\n",
       "      <td>tcp</td>\n",
       "      <td>http</td>\n",
       "      <td>SF</td>\n",
       "      <td>282</td>\n",
       "      <td>2286</td>\n",
       "      <td>0</td>\n",
       "      <td>0</td>\n",
       "      <td>0</td>\n",
       "      <td>0</td>\n",
       "      <td>...</td>\n",
       "      <td>255</td>\n",
       "      <td>1.0</td>\n",
       "      <td>0.0</td>\n",
       "      <td>0.17</td>\n",
       "      <td>0.05</td>\n",
       "      <td>0.00</td>\n",
       "      <td>0.01</td>\n",
       "      <td>0.0</td>\n",
       "      <td>0.0</td>\n",
       "      <td>normal.</td>\n",
       "    </tr>\n",
       "    <tr>\n",
       "      <th>494018</th>\n",
       "      <td>0</td>\n",
       "      <td>tcp</td>\n",
       "      <td>http</td>\n",
       "      <td>SF</td>\n",
       "      <td>203</td>\n",
       "      <td>1200</td>\n",
       "      <td>0</td>\n",
       "      <td>0</td>\n",
       "      <td>0</td>\n",
       "      <td>0</td>\n",
       "      <td>...</td>\n",
       "      <td>255</td>\n",
       "      <td>1.0</td>\n",
       "      <td>0.0</td>\n",
       "      <td>0.06</td>\n",
       "      <td>0.05</td>\n",
       "      <td>0.06</td>\n",
       "      <td>0.01</td>\n",
       "      <td>0.0</td>\n",
       "      <td>0.0</td>\n",
       "      <td>normal.</td>\n",
       "    </tr>\n",
       "    <tr>\n",
       "      <th>494019</th>\n",
       "      <td>0</td>\n",
       "      <td>tcp</td>\n",
       "      <td>http</td>\n",
       "      <td>SF</td>\n",
       "      <td>291</td>\n",
       "      <td>1200</td>\n",
       "      <td>0</td>\n",
       "      <td>0</td>\n",
       "      <td>0</td>\n",
       "      <td>0</td>\n",
       "      <td>...</td>\n",
       "      <td>255</td>\n",
       "      <td>1.0</td>\n",
       "      <td>0.0</td>\n",
       "      <td>0.04</td>\n",
       "      <td>0.05</td>\n",
       "      <td>0.04</td>\n",
       "      <td>0.01</td>\n",
       "      <td>0.0</td>\n",
       "      <td>0.0</td>\n",
       "      <td>normal.</td>\n",
       "    </tr>\n",
       "    <tr>\n",
       "      <th>494020</th>\n",
       "      <td>0</td>\n",
       "      <td>tcp</td>\n",
       "      <td>http</td>\n",
       "      <td>SF</td>\n",
       "      <td>219</td>\n",
       "      <td>1234</td>\n",
       "      <td>0</td>\n",
       "      <td>0</td>\n",
       "      <td>0</td>\n",
       "      <td>0</td>\n",
       "      <td>...</td>\n",
       "      <td>255</td>\n",
       "      <td>1.0</td>\n",
       "      <td>0.0</td>\n",
       "      <td>0.17</td>\n",
       "      <td>0.05</td>\n",
       "      <td>0.00</td>\n",
       "      <td>0.01</td>\n",
       "      <td>0.0</td>\n",
       "      <td>0.0</td>\n",
       "      <td>normal.</td>\n",
       "    </tr>\n",
       "  </tbody>\n",
       "</table>\n",
       "<p>494021 rows × 42 columns</p>\n",
       "</div>"
      ],
      "text/plain": [
       "        duration protocol_type service flag  src_bytes  dst_bytes  land  \\\n",
       "0              0           tcp    http   SF        181       5450     0   \n",
       "1              0           tcp    http   SF        239        486     0   \n",
       "2              0           tcp    http   SF        235       1337     0   \n",
       "3              0           tcp    http   SF        219       1337     0   \n",
       "4              0           tcp    http   SF        217       2032     0   \n",
       "...          ...           ...     ...  ...        ...        ...   ...   \n",
       "494016         0           tcp    http   SF        310       1881     0   \n",
       "494017         0           tcp    http   SF        282       2286     0   \n",
       "494018         0           tcp    http   SF        203       1200     0   \n",
       "494019         0           tcp    http   SF        291       1200     0   \n",
       "494020         0           tcp    http   SF        219       1234     0   \n",
       "\n",
       "        wrong_fragment  urgent  hot  ...  dst_host_srv_count  \\\n",
       "0                    0       0    0  ...                   9   \n",
       "1                    0       0    0  ...                  19   \n",
       "2                    0       0    0  ...                  29   \n",
       "3                    0       0    0  ...                  39   \n",
       "4                    0       0    0  ...                  49   \n",
       "...                ...     ...  ...  ...                 ...   \n",
       "494016               0       0    0  ...                 255   \n",
       "494017               0       0    0  ...                 255   \n",
       "494018               0       0    0  ...                 255   \n",
       "494019               0       0    0  ...                 255   \n",
       "494020               0       0    0  ...                 255   \n",
       "\n",
       "        dst_host_same_srv_rate  dst_host_diff_srv_rate  \\\n",
       "0                          1.0                     0.0   \n",
       "1                          1.0                     0.0   \n",
       "2                          1.0                     0.0   \n",
       "3                          1.0                     0.0   \n",
       "4                          1.0                     0.0   \n",
       "...                        ...                     ...   \n",
       "494016                     1.0                     0.0   \n",
       "494017                     1.0                     0.0   \n",
       "494018                     1.0                     0.0   \n",
       "494019                     1.0                     0.0   \n",
       "494020                     1.0                     0.0   \n",
       "\n",
       "        dst_host_same_src_port_rate  dst_host_srv_diff_host_rate  \\\n",
       "0                              0.11                         0.00   \n",
       "1                              0.05                         0.00   \n",
       "2                              0.03                         0.00   \n",
       "3                              0.03                         0.00   \n",
       "4                              0.02                         0.00   \n",
       "...                             ...                          ...   \n",
       "494016                         0.01                         0.05   \n",
       "494017                         0.17                         0.05   \n",
       "494018                         0.06                         0.05   \n",
       "494019                         0.04                         0.05   \n",
       "494020                         0.17                         0.05   \n",
       "\n",
       "        dst_host_serror_rate  dst_host_srv_serror_rate  dst_host_rerror_rate  \\\n",
       "0                       0.00                      0.00                   0.0   \n",
       "1                       0.00                      0.00                   0.0   \n",
       "2                       0.00                      0.00                   0.0   \n",
       "3                       0.00                      0.00                   0.0   \n",
       "4                       0.00                      0.00                   0.0   \n",
       "...                      ...                       ...                   ...   \n",
       "494016                  0.00                      0.01                   0.0   \n",
       "494017                  0.00                      0.01                   0.0   \n",
       "494018                  0.06                      0.01                   0.0   \n",
       "494019                  0.04                      0.01                   0.0   \n",
       "494020                  0.00                      0.01                   0.0   \n",
       "\n",
       "        dst_host_srv_rerror_rate   target  \n",
       "0                            0.0  normal.  \n",
       "1                            0.0  normal.  \n",
       "2                            0.0  normal.  \n",
       "3                            0.0  normal.  \n",
       "4                            0.0  normal.  \n",
       "...                          ...      ...  \n",
       "494016                       0.0  normal.  \n",
       "494017                       0.0  normal.  \n",
       "494018                       0.0  normal.  \n",
       "494019                       0.0  normal.  \n",
       "494020                       0.0  normal.  \n",
       "\n",
       "[494021 rows x 42 columns]"
      ]
     },
     "execution_count": 7,
     "metadata": {},
     "output_type": "execute_result"
    }
   ],
   "source": [
    "train_data"
   ]
  },
  {
   "cell_type": "code",
   "execution_count": 8,
   "metadata": {
    "execution": {
     "iopub.execute_input": "2022-10-30T16:46:15.761651Z",
     "iopub.status.busy": "2022-10-30T16:46:15.761264Z",
     "iopub.status.idle": "2022-10-30T16:46:15.899816Z",
     "shell.execute_reply": "2022-10-30T16:46:15.898352Z"
    },
    "id": "A6SVqr3EnPzS",
    "outputId": "af9cb89d-c743-4a9d-985b-8bb0f85a7a47",
    "papermill": {
     "duration": 0.15121,
     "end_time": "2022-10-30T16:46:15.902444",
     "exception": false,
     "start_time": "2022-10-30T16:46:15.751234",
     "status": "completed"
    },
    "tags": []
   },
   "outputs": [
    {
     "name": "stdout",
     "output_type": "stream",
     "text": [
      "<class 'pandas.core.frame.DataFrame'>\n",
      "RangeIndex: 494021 entries, 0 to 494020\n",
      "Data columns (total 42 columns):\n",
      "duration                       494021 non-null int64\n",
      "protocol_type                  494021 non-null object\n",
      "service                        494021 non-null object\n",
      "flag                           494021 non-null object\n",
      "src_bytes                      494021 non-null int64\n",
      "dst_bytes                      494021 non-null int64\n",
      "land                           494021 non-null int64\n",
      "wrong_fragment                 494021 non-null int64\n",
      "urgent                         494021 non-null int64\n",
      "hot                            494021 non-null int64\n",
      "num_failed_logins              494021 non-null int64\n",
      "logged_in                      494021 non-null int64\n",
      "num_compromised                494021 non-null int64\n",
      "root_shell                     494021 non-null int64\n",
      "su_attempted                   494021 non-null int64\n",
      "num_root                       494021 non-null int64\n",
      "num_file_creations             494021 non-null int64\n",
      "num_shells                     494021 non-null int64\n",
      "num_access_files               494021 non-null int64\n",
      "num_outbound_cmds              494021 non-null int64\n",
      "is_host_login                  494021 non-null int64\n",
      "is_guest_login                 494021 non-null int64\n",
      "count                          494021 non-null int64\n",
      "srv_count                      494021 non-null int64\n",
      "serror_rate                    494021 non-null float64\n",
      "srv_serror_rate                494021 non-null float64\n",
      "rerror_rate                    494021 non-null float64\n",
      "srv_rerror_rate                494021 non-null float64\n",
      "same_srv_rate                  494021 non-null float64\n",
      "diff_srv_rate                  494021 non-null float64\n",
      "srv_diff_host_rate             494021 non-null float64\n",
      "dst_host_count                 494021 non-null int64\n",
      "dst_host_srv_count             494021 non-null int64\n",
      "dst_host_same_srv_rate         494021 non-null float64\n",
      "dst_host_diff_srv_rate         494021 non-null float64\n",
      "dst_host_same_src_port_rate    494021 non-null float64\n",
      "dst_host_srv_diff_host_rate    494021 non-null float64\n",
      "dst_host_serror_rate           494021 non-null float64\n",
      "dst_host_srv_serror_rate       494021 non-null float64\n",
      "dst_host_rerror_rate           494021 non-null float64\n",
      "dst_host_srv_rerror_rate       494021 non-null float64\n",
      "target                         494021 non-null object\n",
      "dtypes: float64(15), int64(23), object(4)\n",
      "memory usage: 158.3+ MB\n"
     ]
    }
   ],
   "source": [
    "train_data.info()"
   ]
  },
  {
   "cell_type": "code",
   "execution_count": 9,
   "metadata": {
    "execution": {
     "iopub.execute_input": "2022-10-30T16:46:15.922913Z",
     "iopub.status.busy": "2022-10-30T16:46:15.922006Z",
     "iopub.status.idle": "2022-10-30T16:46:16.440717Z",
     "shell.execute_reply": "2022-10-30T16:46:16.439868Z"
    },
    "id": "lpUo7BhojW5a",
    "outputId": "3e138bff-97ad-445c-d840-f843d59a43e6",
    "papermill": {
     "duration": 0.531061,
     "end_time": "2022-10-30T16:46:16.442852",
     "exception": false,
     "start_time": "2022-10-30T16:46:15.911791",
     "status": "completed"
    },
    "tags": []
   },
   "outputs": [
    {
     "data": {
      "text/html": [
       "<div>\n",
       "<style scoped>\n",
       "    .dataframe tbody tr th:only-of-type {\n",
       "        vertical-align: middle;\n",
       "    }\n",
       "\n",
       "    .dataframe tbody tr th {\n",
       "        vertical-align: top;\n",
       "    }\n",
       "\n",
       "    .dataframe thead th {\n",
       "        text-align: right;\n",
       "    }\n",
       "</style>\n",
       "<table border=\"1\" class=\"dataframe\">\n",
       "  <thead>\n",
       "    <tr style=\"text-align: right;\">\n",
       "      <th></th>\n",
       "      <th>count</th>\n",
       "      <th>mean</th>\n",
       "      <th>std</th>\n",
       "      <th>min</th>\n",
       "      <th>25%</th>\n",
       "      <th>50%</th>\n",
       "      <th>75%</th>\n",
       "      <th>max</th>\n",
       "    </tr>\n",
       "  </thead>\n",
       "  <tbody>\n",
       "    <tr>\n",
       "      <th>duration</th>\n",
       "      <td>494021.0</td>\n",
       "      <td>47.979302</td>\n",
       "      <td>707.746472</td>\n",
       "      <td>0.0</td>\n",
       "      <td>0.00</td>\n",
       "      <td>0.0</td>\n",
       "      <td>0.00</td>\n",
       "      <td>58329.0</td>\n",
       "    </tr>\n",
       "    <tr>\n",
       "      <th>src_bytes</th>\n",
       "      <td>494021.0</td>\n",
       "      <td>3025.610296</td>\n",
       "      <td>988218.101045</td>\n",
       "      <td>0.0</td>\n",
       "      <td>45.00</td>\n",
       "      <td>520.0</td>\n",
       "      <td>1032.00</td>\n",
       "      <td>693375640.0</td>\n",
       "    </tr>\n",
       "    <tr>\n",
       "      <th>dst_bytes</th>\n",
       "      <td>494021.0</td>\n",
       "      <td>868.532425</td>\n",
       "      <td>33040.001252</td>\n",
       "      <td>0.0</td>\n",
       "      <td>0.00</td>\n",
       "      <td>0.0</td>\n",
       "      <td>0.00</td>\n",
       "      <td>5155468.0</td>\n",
       "    </tr>\n",
       "    <tr>\n",
       "      <th>land</th>\n",
       "      <td>494021.0</td>\n",
       "      <td>0.000045</td>\n",
       "      <td>0.006673</td>\n",
       "      <td>0.0</td>\n",
       "      <td>0.00</td>\n",
       "      <td>0.0</td>\n",
       "      <td>0.00</td>\n",
       "      <td>1.0</td>\n",
       "    </tr>\n",
       "    <tr>\n",
       "      <th>wrong_fragment</th>\n",
       "      <td>494021.0</td>\n",
       "      <td>0.006433</td>\n",
       "      <td>0.134805</td>\n",
       "      <td>0.0</td>\n",
       "      <td>0.00</td>\n",
       "      <td>0.0</td>\n",
       "      <td>0.00</td>\n",
       "      <td>3.0</td>\n",
       "    </tr>\n",
       "    <tr>\n",
       "      <th>urgent</th>\n",
       "      <td>494021.0</td>\n",
       "      <td>0.000014</td>\n",
       "      <td>0.005510</td>\n",
       "      <td>0.0</td>\n",
       "      <td>0.00</td>\n",
       "      <td>0.0</td>\n",
       "      <td>0.00</td>\n",
       "      <td>3.0</td>\n",
       "    </tr>\n",
       "    <tr>\n",
       "      <th>hot</th>\n",
       "      <td>494021.0</td>\n",
       "      <td>0.034519</td>\n",
       "      <td>0.782103</td>\n",
       "      <td>0.0</td>\n",
       "      <td>0.00</td>\n",
       "      <td>0.0</td>\n",
       "      <td>0.00</td>\n",
       "      <td>30.0</td>\n",
       "    </tr>\n",
       "    <tr>\n",
       "      <th>num_failed_logins</th>\n",
       "      <td>494021.0</td>\n",
       "      <td>0.000152</td>\n",
       "      <td>0.015520</td>\n",
       "      <td>0.0</td>\n",
       "      <td>0.00</td>\n",
       "      <td>0.0</td>\n",
       "      <td>0.00</td>\n",
       "      <td>5.0</td>\n",
       "    </tr>\n",
       "    <tr>\n",
       "      <th>logged_in</th>\n",
       "      <td>494021.0</td>\n",
       "      <td>0.148247</td>\n",
       "      <td>0.355345</td>\n",
       "      <td>0.0</td>\n",
       "      <td>0.00</td>\n",
       "      <td>0.0</td>\n",
       "      <td>0.00</td>\n",
       "      <td>1.0</td>\n",
       "    </tr>\n",
       "    <tr>\n",
       "      <th>num_compromised</th>\n",
       "      <td>494021.0</td>\n",
       "      <td>0.010212</td>\n",
       "      <td>1.798326</td>\n",
       "      <td>0.0</td>\n",
       "      <td>0.00</td>\n",
       "      <td>0.0</td>\n",
       "      <td>0.00</td>\n",
       "      <td>884.0</td>\n",
       "    </tr>\n",
       "    <tr>\n",
       "      <th>root_shell</th>\n",
       "      <td>494021.0</td>\n",
       "      <td>0.000111</td>\n",
       "      <td>0.010551</td>\n",
       "      <td>0.0</td>\n",
       "      <td>0.00</td>\n",
       "      <td>0.0</td>\n",
       "      <td>0.00</td>\n",
       "      <td>1.0</td>\n",
       "    </tr>\n",
       "    <tr>\n",
       "      <th>su_attempted</th>\n",
       "      <td>494021.0</td>\n",
       "      <td>0.000036</td>\n",
       "      <td>0.007793</td>\n",
       "      <td>0.0</td>\n",
       "      <td>0.00</td>\n",
       "      <td>0.0</td>\n",
       "      <td>0.00</td>\n",
       "      <td>2.0</td>\n",
       "    </tr>\n",
       "    <tr>\n",
       "      <th>num_root</th>\n",
       "      <td>494021.0</td>\n",
       "      <td>0.011352</td>\n",
       "      <td>2.012718</td>\n",
       "      <td>0.0</td>\n",
       "      <td>0.00</td>\n",
       "      <td>0.0</td>\n",
       "      <td>0.00</td>\n",
       "      <td>993.0</td>\n",
       "    </tr>\n",
       "    <tr>\n",
       "      <th>num_file_creations</th>\n",
       "      <td>494021.0</td>\n",
       "      <td>0.001083</td>\n",
       "      <td>0.096416</td>\n",
       "      <td>0.0</td>\n",
       "      <td>0.00</td>\n",
       "      <td>0.0</td>\n",
       "      <td>0.00</td>\n",
       "      <td>28.0</td>\n",
       "    </tr>\n",
       "    <tr>\n",
       "      <th>num_shells</th>\n",
       "      <td>494021.0</td>\n",
       "      <td>0.000109</td>\n",
       "      <td>0.011020</td>\n",
       "      <td>0.0</td>\n",
       "      <td>0.00</td>\n",
       "      <td>0.0</td>\n",
       "      <td>0.00</td>\n",
       "      <td>2.0</td>\n",
       "    </tr>\n",
       "    <tr>\n",
       "      <th>num_access_files</th>\n",
       "      <td>494021.0</td>\n",
       "      <td>0.001008</td>\n",
       "      <td>0.036482</td>\n",
       "      <td>0.0</td>\n",
       "      <td>0.00</td>\n",
       "      <td>0.0</td>\n",
       "      <td>0.00</td>\n",
       "      <td>8.0</td>\n",
       "    </tr>\n",
       "    <tr>\n",
       "      <th>num_outbound_cmds</th>\n",
       "      <td>494021.0</td>\n",
       "      <td>0.000000</td>\n",
       "      <td>0.000000</td>\n",
       "      <td>0.0</td>\n",
       "      <td>0.00</td>\n",
       "      <td>0.0</td>\n",
       "      <td>0.00</td>\n",
       "      <td>0.0</td>\n",
       "    </tr>\n",
       "    <tr>\n",
       "      <th>is_host_login</th>\n",
       "      <td>494021.0</td>\n",
       "      <td>0.000000</td>\n",
       "      <td>0.000000</td>\n",
       "      <td>0.0</td>\n",
       "      <td>0.00</td>\n",
       "      <td>0.0</td>\n",
       "      <td>0.00</td>\n",
       "      <td>0.0</td>\n",
       "    </tr>\n",
       "    <tr>\n",
       "      <th>is_guest_login</th>\n",
       "      <td>494021.0</td>\n",
       "      <td>0.001387</td>\n",
       "      <td>0.037211</td>\n",
       "      <td>0.0</td>\n",
       "      <td>0.00</td>\n",
       "      <td>0.0</td>\n",
       "      <td>0.00</td>\n",
       "      <td>1.0</td>\n",
       "    </tr>\n",
       "    <tr>\n",
       "      <th>count</th>\n",
       "      <td>494021.0</td>\n",
       "      <td>332.285690</td>\n",
       "      <td>213.147412</td>\n",
       "      <td>0.0</td>\n",
       "      <td>117.00</td>\n",
       "      <td>510.0</td>\n",
       "      <td>511.00</td>\n",
       "      <td>511.0</td>\n",
       "    </tr>\n",
       "    <tr>\n",
       "      <th>srv_count</th>\n",
       "      <td>494021.0</td>\n",
       "      <td>292.906557</td>\n",
       "      <td>246.322817</td>\n",
       "      <td>0.0</td>\n",
       "      <td>10.00</td>\n",
       "      <td>510.0</td>\n",
       "      <td>511.00</td>\n",
       "      <td>511.0</td>\n",
       "    </tr>\n",
       "    <tr>\n",
       "      <th>serror_rate</th>\n",
       "      <td>494021.0</td>\n",
       "      <td>0.176687</td>\n",
       "      <td>0.380717</td>\n",
       "      <td>0.0</td>\n",
       "      <td>0.00</td>\n",
       "      <td>0.0</td>\n",
       "      <td>0.00</td>\n",
       "      <td>1.0</td>\n",
       "    </tr>\n",
       "    <tr>\n",
       "      <th>srv_serror_rate</th>\n",
       "      <td>494021.0</td>\n",
       "      <td>0.176609</td>\n",
       "      <td>0.381017</td>\n",
       "      <td>0.0</td>\n",
       "      <td>0.00</td>\n",
       "      <td>0.0</td>\n",
       "      <td>0.00</td>\n",
       "      <td>1.0</td>\n",
       "    </tr>\n",
       "    <tr>\n",
       "      <th>rerror_rate</th>\n",
       "      <td>494021.0</td>\n",
       "      <td>0.057433</td>\n",
       "      <td>0.231623</td>\n",
       "      <td>0.0</td>\n",
       "      <td>0.00</td>\n",
       "      <td>0.0</td>\n",
       "      <td>0.00</td>\n",
       "      <td>1.0</td>\n",
       "    </tr>\n",
       "    <tr>\n",
       "      <th>srv_rerror_rate</th>\n",
       "      <td>494021.0</td>\n",
       "      <td>0.057719</td>\n",
       "      <td>0.232147</td>\n",
       "      <td>0.0</td>\n",
       "      <td>0.00</td>\n",
       "      <td>0.0</td>\n",
       "      <td>0.00</td>\n",
       "      <td>1.0</td>\n",
       "    </tr>\n",
       "    <tr>\n",
       "      <th>same_srv_rate</th>\n",
       "      <td>494021.0</td>\n",
       "      <td>0.791547</td>\n",
       "      <td>0.388189</td>\n",
       "      <td>0.0</td>\n",
       "      <td>1.00</td>\n",
       "      <td>1.0</td>\n",
       "      <td>1.00</td>\n",
       "      <td>1.0</td>\n",
       "    </tr>\n",
       "    <tr>\n",
       "      <th>diff_srv_rate</th>\n",
       "      <td>494021.0</td>\n",
       "      <td>0.020982</td>\n",
       "      <td>0.082205</td>\n",
       "      <td>0.0</td>\n",
       "      <td>0.00</td>\n",
       "      <td>0.0</td>\n",
       "      <td>0.00</td>\n",
       "      <td>1.0</td>\n",
       "    </tr>\n",
       "    <tr>\n",
       "      <th>srv_diff_host_rate</th>\n",
       "      <td>494021.0</td>\n",
       "      <td>0.028997</td>\n",
       "      <td>0.142397</td>\n",
       "      <td>0.0</td>\n",
       "      <td>0.00</td>\n",
       "      <td>0.0</td>\n",
       "      <td>0.00</td>\n",
       "      <td>1.0</td>\n",
       "    </tr>\n",
       "    <tr>\n",
       "      <th>dst_host_count</th>\n",
       "      <td>494021.0</td>\n",
       "      <td>232.470778</td>\n",
       "      <td>64.745380</td>\n",
       "      <td>0.0</td>\n",
       "      <td>255.00</td>\n",
       "      <td>255.0</td>\n",
       "      <td>255.00</td>\n",
       "      <td>255.0</td>\n",
       "    </tr>\n",
       "    <tr>\n",
       "      <th>dst_host_srv_count</th>\n",
       "      <td>494021.0</td>\n",
       "      <td>188.665670</td>\n",
       "      <td>106.040437</td>\n",
       "      <td>0.0</td>\n",
       "      <td>46.00</td>\n",
       "      <td>255.0</td>\n",
       "      <td>255.00</td>\n",
       "      <td>255.0</td>\n",
       "    </tr>\n",
       "    <tr>\n",
       "      <th>dst_host_same_srv_rate</th>\n",
       "      <td>494021.0</td>\n",
       "      <td>0.753780</td>\n",
       "      <td>0.410781</td>\n",
       "      <td>0.0</td>\n",
       "      <td>0.41</td>\n",
       "      <td>1.0</td>\n",
       "      <td>1.00</td>\n",
       "      <td>1.0</td>\n",
       "    </tr>\n",
       "    <tr>\n",
       "      <th>dst_host_diff_srv_rate</th>\n",
       "      <td>494021.0</td>\n",
       "      <td>0.030906</td>\n",
       "      <td>0.109259</td>\n",
       "      <td>0.0</td>\n",
       "      <td>0.00</td>\n",
       "      <td>0.0</td>\n",
       "      <td>0.04</td>\n",
       "      <td>1.0</td>\n",
       "    </tr>\n",
       "    <tr>\n",
       "      <th>dst_host_same_src_port_rate</th>\n",
       "      <td>494021.0</td>\n",
       "      <td>0.601935</td>\n",
       "      <td>0.481309</td>\n",
       "      <td>0.0</td>\n",
       "      <td>0.00</td>\n",
       "      <td>1.0</td>\n",
       "      <td>1.00</td>\n",
       "      <td>1.0</td>\n",
       "    </tr>\n",
       "    <tr>\n",
       "      <th>dst_host_srv_diff_host_rate</th>\n",
       "      <td>494021.0</td>\n",
       "      <td>0.006684</td>\n",
       "      <td>0.042133</td>\n",
       "      <td>0.0</td>\n",
       "      <td>0.00</td>\n",
       "      <td>0.0</td>\n",
       "      <td>0.00</td>\n",
       "      <td>1.0</td>\n",
       "    </tr>\n",
       "    <tr>\n",
       "      <th>dst_host_serror_rate</th>\n",
       "      <td>494021.0</td>\n",
       "      <td>0.176754</td>\n",
       "      <td>0.380593</td>\n",
       "      <td>0.0</td>\n",
       "      <td>0.00</td>\n",
       "      <td>0.0</td>\n",
       "      <td>0.00</td>\n",
       "      <td>1.0</td>\n",
       "    </tr>\n",
       "    <tr>\n",
       "      <th>dst_host_srv_serror_rate</th>\n",
       "      <td>494021.0</td>\n",
       "      <td>0.176443</td>\n",
       "      <td>0.380919</td>\n",
       "      <td>0.0</td>\n",
       "      <td>0.00</td>\n",
       "      <td>0.0</td>\n",
       "      <td>0.00</td>\n",
       "      <td>1.0</td>\n",
       "    </tr>\n",
       "    <tr>\n",
       "      <th>dst_host_rerror_rate</th>\n",
       "      <td>494021.0</td>\n",
       "      <td>0.058118</td>\n",
       "      <td>0.230590</td>\n",
       "      <td>0.0</td>\n",
       "      <td>0.00</td>\n",
       "      <td>0.0</td>\n",
       "      <td>0.00</td>\n",
       "      <td>1.0</td>\n",
       "    </tr>\n",
       "    <tr>\n",
       "      <th>dst_host_srv_rerror_rate</th>\n",
       "      <td>494021.0</td>\n",
       "      <td>0.057412</td>\n",
       "      <td>0.230140</td>\n",
       "      <td>0.0</td>\n",
       "      <td>0.00</td>\n",
       "      <td>0.0</td>\n",
       "      <td>0.00</td>\n",
       "      <td>1.0</td>\n",
       "    </tr>\n",
       "  </tbody>\n",
       "</table>\n",
       "</div>"
      ],
      "text/plain": [
       "                                count         mean            std  min  \\\n",
       "duration                     494021.0    47.979302     707.746472  0.0   \n",
       "src_bytes                    494021.0  3025.610296  988218.101045  0.0   \n",
       "dst_bytes                    494021.0   868.532425   33040.001252  0.0   \n",
       "land                         494021.0     0.000045       0.006673  0.0   \n",
       "wrong_fragment               494021.0     0.006433       0.134805  0.0   \n",
       "urgent                       494021.0     0.000014       0.005510  0.0   \n",
       "hot                          494021.0     0.034519       0.782103  0.0   \n",
       "num_failed_logins            494021.0     0.000152       0.015520  0.0   \n",
       "logged_in                    494021.0     0.148247       0.355345  0.0   \n",
       "num_compromised              494021.0     0.010212       1.798326  0.0   \n",
       "root_shell                   494021.0     0.000111       0.010551  0.0   \n",
       "su_attempted                 494021.0     0.000036       0.007793  0.0   \n",
       "num_root                     494021.0     0.011352       2.012718  0.0   \n",
       "num_file_creations           494021.0     0.001083       0.096416  0.0   \n",
       "num_shells                   494021.0     0.000109       0.011020  0.0   \n",
       "num_access_files             494021.0     0.001008       0.036482  0.0   \n",
       "num_outbound_cmds            494021.0     0.000000       0.000000  0.0   \n",
       "is_host_login                494021.0     0.000000       0.000000  0.0   \n",
       "is_guest_login               494021.0     0.001387       0.037211  0.0   \n",
       "count                        494021.0   332.285690     213.147412  0.0   \n",
       "srv_count                    494021.0   292.906557     246.322817  0.0   \n",
       "serror_rate                  494021.0     0.176687       0.380717  0.0   \n",
       "srv_serror_rate              494021.0     0.176609       0.381017  0.0   \n",
       "rerror_rate                  494021.0     0.057433       0.231623  0.0   \n",
       "srv_rerror_rate              494021.0     0.057719       0.232147  0.0   \n",
       "same_srv_rate                494021.0     0.791547       0.388189  0.0   \n",
       "diff_srv_rate                494021.0     0.020982       0.082205  0.0   \n",
       "srv_diff_host_rate           494021.0     0.028997       0.142397  0.0   \n",
       "dst_host_count               494021.0   232.470778      64.745380  0.0   \n",
       "dst_host_srv_count           494021.0   188.665670     106.040437  0.0   \n",
       "dst_host_same_srv_rate       494021.0     0.753780       0.410781  0.0   \n",
       "dst_host_diff_srv_rate       494021.0     0.030906       0.109259  0.0   \n",
       "dst_host_same_src_port_rate  494021.0     0.601935       0.481309  0.0   \n",
       "dst_host_srv_diff_host_rate  494021.0     0.006684       0.042133  0.0   \n",
       "dst_host_serror_rate         494021.0     0.176754       0.380593  0.0   \n",
       "dst_host_srv_serror_rate     494021.0     0.176443       0.380919  0.0   \n",
       "dst_host_rerror_rate         494021.0     0.058118       0.230590  0.0   \n",
       "dst_host_srv_rerror_rate     494021.0     0.057412       0.230140  0.0   \n",
       "\n",
       "                                25%    50%      75%          max  \n",
       "duration                       0.00    0.0     0.00      58329.0  \n",
       "src_bytes                     45.00  520.0  1032.00  693375640.0  \n",
       "dst_bytes                      0.00    0.0     0.00    5155468.0  \n",
       "land                           0.00    0.0     0.00          1.0  \n",
       "wrong_fragment                 0.00    0.0     0.00          3.0  \n",
       "urgent                         0.00    0.0     0.00          3.0  \n",
       "hot                            0.00    0.0     0.00         30.0  \n",
       "num_failed_logins              0.00    0.0     0.00          5.0  \n",
       "logged_in                      0.00    0.0     0.00          1.0  \n",
       "num_compromised                0.00    0.0     0.00        884.0  \n",
       "root_shell                     0.00    0.0     0.00          1.0  \n",
       "su_attempted                   0.00    0.0     0.00          2.0  \n",
       "num_root                       0.00    0.0     0.00        993.0  \n",
       "num_file_creations             0.00    0.0     0.00         28.0  \n",
       "num_shells                     0.00    0.0     0.00          2.0  \n",
       "num_access_files               0.00    0.0     0.00          8.0  \n",
       "num_outbound_cmds              0.00    0.0     0.00          0.0  \n",
       "is_host_login                  0.00    0.0     0.00          0.0  \n",
       "is_guest_login                 0.00    0.0     0.00          1.0  \n",
       "count                        117.00  510.0   511.00        511.0  \n",
       "srv_count                     10.00  510.0   511.00        511.0  \n",
       "serror_rate                    0.00    0.0     0.00          1.0  \n",
       "srv_serror_rate                0.00    0.0     0.00          1.0  \n",
       "rerror_rate                    0.00    0.0     0.00          1.0  \n",
       "srv_rerror_rate                0.00    0.0     0.00          1.0  \n",
       "same_srv_rate                  1.00    1.0     1.00          1.0  \n",
       "diff_srv_rate                  0.00    0.0     0.00          1.0  \n",
       "srv_diff_host_rate             0.00    0.0     0.00          1.0  \n",
       "dst_host_count               255.00  255.0   255.00        255.0  \n",
       "dst_host_srv_count            46.00  255.0   255.00        255.0  \n",
       "dst_host_same_srv_rate         0.41    1.0     1.00          1.0  \n",
       "dst_host_diff_srv_rate         0.00    0.0     0.04          1.0  \n",
       "dst_host_same_src_port_rate    0.00    1.0     1.00          1.0  \n",
       "dst_host_srv_diff_host_rate    0.00    0.0     0.00          1.0  \n",
       "dst_host_serror_rate           0.00    0.0     0.00          1.0  \n",
       "dst_host_srv_serror_rate       0.00    0.0     0.00          1.0  \n",
       "dst_host_rerror_rate           0.00    0.0     0.00          1.0  \n",
       "dst_host_srv_rerror_rate       0.00    0.0     0.00          1.0  "
      ]
     },
     "execution_count": 9,
     "metadata": {},
     "output_type": "execute_result"
    }
   ],
   "source": [
    "train_data.describe().T"
   ]
  },
  {
   "cell_type": "code",
   "execution_count": 10,
   "metadata": {
    "execution": {
     "iopub.execute_input": "2022-10-30T16:46:16.464587Z",
     "iopub.status.busy": "2022-10-30T16:46:16.464200Z",
     "iopub.status.idle": "2022-10-30T16:46:16.502934Z",
     "shell.execute_reply": "2022-10-30T16:46:16.501814Z"
    },
    "id": "wRg5GZPwtth6",
    "outputId": "4193afdc-6b68-48c8-b92a-29675bd6a721",
    "papermill": {
     "duration": 0.052373,
     "end_time": "2022-10-30T16:46:16.505268",
     "exception": false,
     "start_time": "2022-10-30T16:46:16.452895",
     "status": "completed"
    },
    "tags": []
   },
   "outputs": [
    {
     "data": {
      "text/plain": [
       "smurf.              280790\n",
       "neptune.            107201\n",
       "normal.              97278\n",
       "back.                 2203\n",
       "satan.                1589\n",
       "ipsweep.              1247\n",
       "portsweep.            1040\n",
       "warezclient.          1020\n",
       "teardrop.              979\n",
       "pod.                   264\n",
       "nmap.                  231\n",
       "guess_passwd.           53\n",
       "buffer_overflow.        30\n",
       "land.                   21\n",
       "warezmaster.            20\n",
       "imap.                   12\n",
       "rootkit.                10\n",
       "loadmodule.              9\n",
       "ftp_write.               8\n",
       "multihop.                7\n",
       "phf.                     4\n",
       "perl.                    3\n",
       "spy.                     2\n",
       "Name: target, dtype: int64"
      ]
     },
     "execution_count": 10,
     "metadata": {},
     "output_type": "execute_result"
    }
   ],
   "source": [
    "# number of attack labels \n",
    "train_data['target'].value_counts()"
   ]
  },
  {
   "cell_type": "markdown",
   "metadata": {
    "id": "vM5IYMkvlVdb",
    "papermill": {
     "duration": 0.009362,
     "end_time": "2022-10-30T16:46:16.544553",
     "exception": false,
     "start_time": "2022-10-30T16:46:16.535191",
     "status": "completed"
    },
    "tags": []
   },
   "source": [
    "### Label"
   ]
  },
  {
   "cell_type": "code",
   "execution_count": 11,
   "metadata": {
    "execution": {
     "iopub.execute_input": "2022-10-30T16:46:16.566244Z",
     "iopub.status.busy": "2022-10-30T16:46:16.565825Z",
     "iopub.status.idle": "2022-10-30T16:46:16.604779Z",
     "shell.execute_reply": "2022-10-30T16:46:16.603776Z"
    },
    "id": "f47hlRLXkBej",
    "outputId": "1f9934a7-8ff4-4561-eaf3-3f20550ebd6b",
    "papermill": {
     "duration": 0.052692,
     "end_time": "2022-10-30T16:46:16.607128",
     "exception": false,
     "start_time": "2022-10-30T16:46:16.554436",
     "status": "completed"
    },
    "tags": []
   },
   "outputs": [
    {
     "data": {
      "text/plain": [
       "smurf.              280790\n",
       "neptune.            107201\n",
       "normal.              97278\n",
       "back.                 2203\n",
       "satan.                1589\n",
       "ipsweep.              1247\n",
       "portsweep.            1040\n",
       "warezclient.          1020\n",
       "teardrop.              979\n",
       "pod.                   264\n",
       "nmap.                  231\n",
       "guess_passwd.           53\n",
       "buffer_overflow.        30\n",
       "land.                   21\n",
       "warezmaster.            20\n",
       "imap.                   12\n",
       "rootkit.                10\n",
       "loadmodule.              9\n",
       "ftp_write.               8\n",
       "multihop.                7\n",
       "phf.                     4\n",
       "perl.                    3\n",
       "spy.                     2\n",
       "Name: target, dtype: int64"
      ]
     },
     "execution_count": 11,
     "metadata": {},
     "output_type": "execute_result"
    }
   ],
   "source": [
    "# number of attack labels \n",
    "train_data['target'].value_counts()"
   ]
  },
  {
   "cell_type": "code",
   "execution_count": 12,
   "metadata": {
    "execution": {
     "iopub.execute_input": "2022-10-30T16:46:16.628993Z",
     "iopub.status.busy": "2022-10-30T16:46:16.628624Z",
     "iopub.status.idle": "2022-10-30T16:46:16.635422Z",
     "shell.execute_reply": "2022-10-30T16:46:16.634435Z"
    },
    "id": "gt2Q4Dw5koQ8",
    "papermill": {
     "duration": 0.020439,
     "end_time": "2022-10-30T16:46:16.637699",
     "exception": false,
     "start_time": "2022-10-30T16:46:16.617260",
     "status": "completed"
    },
    "tags": []
   },
   "outputs": [],
   "source": [
    "# changing attack labels to their respective attack class\n",
    "def change_label(df):\n",
    "  df.target.replace(['back.','land.','neptune.','pod.','smurf.','teardrop.'],'Dos',inplace=True)\n",
    "  df.target.replace(['guess_passwd.','imap.','ftp_write.','multihop.','phf.','spy.','warezclient.','warezmaster.'],'R2L',inplace=True)      \n",
    "  df.target.replace(['ipsweep.','nmap.','portsweep.','satan.'],'Probe',inplace=True)\n",
    "  df.target.replace(['buffer_overflow.','loadmodule.','perl.','rootkit.'],'U2R',inplace=True)\n",
    "\n"
   ]
  },
  {
   "cell_type": "code",
   "execution_count": 13,
   "metadata": {
    "execution": {
     "iopub.execute_input": "2022-10-30T16:46:16.659582Z",
     "iopub.status.busy": "2022-10-30T16:46:16.658992Z",
     "iopub.status.idle": "2022-10-30T16:46:17.030345Z",
     "shell.execute_reply": "2022-10-30T16:46:17.029376Z"
    },
    "id": "RVlBCLBilCOn",
    "papermill": {
     "duration": 0.385297,
     "end_time": "2022-10-30T16:46:17.033044",
     "exception": false,
     "start_time": "2022-10-30T16:46:16.647747",
     "status": "completed"
    },
    "tags": []
   },
   "outputs": [],
   "source": [
    "change_label(train_data)"
   ]
  },
  {
   "cell_type": "code",
   "execution_count": 14,
   "metadata": {
    "execution": {
     "iopub.execute_input": "2022-10-30T16:46:17.055001Z",
     "iopub.status.busy": "2022-10-30T16:46:17.054619Z",
     "iopub.status.idle": "2022-10-30T16:46:17.085055Z",
     "shell.execute_reply": "2022-10-30T16:46:17.084041Z"
    },
    "id": "vW9z2HMdlI-2",
    "outputId": "a61a759e-e522-4e58-c2f6-01eda1461c23",
    "papermill": {
     "duration": 0.044226,
     "end_time": "2022-10-30T16:46:17.087299",
     "exception": false,
     "start_time": "2022-10-30T16:46:17.043073",
     "status": "completed"
    },
    "tags": []
   },
   "outputs": [
    {
     "data": {
      "text/plain": [
       "Dos        391458\n",
       "normal.     97278\n",
       "Probe        4107\n",
       "R2L          1126\n",
       "U2R            52\n",
       "Name: target, dtype: int64"
      ]
     },
     "execution_count": 14,
     "metadata": {},
     "output_type": "execute_result"
    }
   ],
   "source": [
    "# distribution of attack classes\n",
    "train_data.target.value_counts()"
   ]
  },
  {
   "cell_type": "code",
   "execution_count": 15,
   "metadata": {
    "execution": {
     "iopub.execute_input": "2022-10-30T16:46:17.129904Z",
     "iopub.status.busy": "2022-10-30T16:46:17.129507Z",
     "iopub.status.idle": "2022-10-30T16:46:17.195753Z",
     "shell.execute_reply": "2022-10-30T16:46:17.194843Z"
    },
    "id": "jomCt764vtrc",
    "outputId": "4531c8d5-b384-45c6-9d76-e0c7c14b8143",
    "papermill": {
     "duration": 0.08078,
     "end_time": "2022-10-30T16:46:17.198319",
     "exception": false,
     "start_time": "2022-10-30T16:46:17.117539",
     "status": "completed"
    },
    "tags": []
   },
   "outputs": [],
   "source": [
    "# creating a dataframe with multi-class labels (Dos,Probe,R2L,U2R,normal)\n",
    "multi_data = train_data.copy()\n",
    "multi_label = pd.DataFrame(multi_data.target)"
   ]
  },
  {
   "cell_type": "code",
   "execution_count": 16,
   "metadata": {
    "execution": {
     "iopub.execute_input": "2022-10-30T16:46:17.220401Z",
     "iopub.status.busy": "2022-10-30T16:46:17.220014Z",
     "iopub.status.idle": "2022-10-30T16:46:17.831271Z",
     "shell.execute_reply": "2022-10-30T16:46:17.830226Z"
    },
    "papermill": {
     "duration": 0.62555,
     "end_time": "2022-10-30T16:46:17.833988",
     "exception": false,
     "start_time": "2022-10-30T16:46:17.208438",
     "status": "completed"
    },
    "tags": []
   },
   "outputs": [],
   "source": [
    "# using standard scaler for normalizing\n",
    "std_scaler = StandardScaler()\n",
    "def standardization(df,col):\n",
    "  for i in col:\n",
    "    arr = df[i]\n",
    "    arr = np.array(arr)\n",
    "    df[i] = std_scaler.fit_transform(arr.reshape(len(arr),1))\n",
    "  return df\n",
    "\n",
    "numeric_col = multi_data.select_dtypes(include='number').columns\n",
    "data = standardization(multi_data,numeric_col)"
   ]
  },
  {
   "cell_type": "code",
   "execution_count": 17,
   "metadata": {
    "execution": {
     "iopub.execute_input": "2022-10-30T16:46:17.862051Z",
     "iopub.status.busy": "2022-10-30T16:46:17.861652Z",
     "iopub.status.idle": "2022-10-30T16:46:18.301334Z",
     "shell.execute_reply": "2022-10-30T16:46:18.300265Z"
    },
    "id": "k8nmwYMmvzX5",
    "outputId": "3e98df5f-096e-4079-c4e7-9f271018b39d",
    "papermill": {
     "duration": 0.454116,
     "end_time": "2022-10-30T16:46:18.303562",
     "exception": false,
     "start_time": "2022-10-30T16:46:17.849446",
     "status": "completed"
    },
    "tags": []
   },
   "outputs": [
    {
     "data": {
      "text/html": [
       "<div>\n",
       "<style scoped>\n",
       "    .dataframe tbody tr th:only-of-type {\n",
       "        vertical-align: middle;\n",
       "    }\n",
       "\n",
       "    .dataframe tbody tr th {\n",
       "        vertical-align: top;\n",
       "    }\n",
       "\n",
       "    .dataframe thead th {\n",
       "        text-align: right;\n",
       "    }\n",
       "</style>\n",
       "<table border=\"1\" class=\"dataframe\">\n",
       "  <thead>\n",
       "    <tr style=\"text-align: right;\">\n",
       "      <th></th>\n",
       "      <th>duration</th>\n",
       "      <th>protocol_type</th>\n",
       "      <th>service</th>\n",
       "      <th>flag</th>\n",
       "      <th>src_bytes</th>\n",
       "      <th>dst_bytes</th>\n",
       "      <th>land</th>\n",
       "      <th>wrong_fragment</th>\n",
       "      <th>urgent</th>\n",
       "      <th>hot</th>\n",
       "      <th>...</th>\n",
       "      <th>dst_host_same_srv_rate</th>\n",
       "      <th>dst_host_diff_srv_rate</th>\n",
       "      <th>dst_host_same_src_port_rate</th>\n",
       "      <th>dst_host_srv_diff_host_rate</th>\n",
       "      <th>dst_host_serror_rate</th>\n",
       "      <th>dst_host_srv_serror_rate</th>\n",
       "      <th>dst_host_rerror_rate</th>\n",
       "      <th>dst_host_srv_rerror_rate</th>\n",
       "      <th>target</th>\n",
       "      <th>intrusion</th>\n",
       "    </tr>\n",
       "  </thead>\n",
       "  <tbody>\n",
       "    <tr>\n",
       "      <th>0</th>\n",
       "      <td>-0.067792</td>\n",
       "      <td>tcp</td>\n",
       "      <td>http</td>\n",
       "      <td>SF</td>\n",
       "      <td>-0.002879</td>\n",
       "      <td>0.138664</td>\n",
       "      <td>-0.006673</td>\n",
       "      <td>-0.04772</td>\n",
       "      <td>-0.002571</td>\n",
       "      <td>-0.044136</td>\n",
       "      <td>...</td>\n",
       "      <td>0.599396</td>\n",
       "      <td>-0.282867</td>\n",
       "      <td>-1.022077</td>\n",
       "      <td>-0.158629</td>\n",
       "      <td>-0.464418</td>\n",
       "      <td>-0.463202</td>\n",
       "      <td>-0.25204</td>\n",
       "      <td>-0.249464</td>\n",
       "      <td>normal.</td>\n",
       "      <td>4</td>\n",
       "    </tr>\n",
       "    <tr>\n",
       "      <th>1</th>\n",
       "      <td>-0.067792</td>\n",
       "      <td>tcp</td>\n",
       "      <td>http</td>\n",
       "      <td>SF</td>\n",
       "      <td>-0.002820</td>\n",
       "      <td>-0.011578</td>\n",
       "      <td>-0.006673</td>\n",
       "      <td>-0.04772</td>\n",
       "      <td>-0.002571</td>\n",
       "      <td>-0.044136</td>\n",
       "      <td>...</td>\n",
       "      <td>0.599396</td>\n",
       "      <td>-0.282867</td>\n",
       "      <td>-1.146737</td>\n",
       "      <td>-0.158629</td>\n",
       "      <td>-0.464418</td>\n",
       "      <td>-0.463202</td>\n",
       "      <td>-0.25204</td>\n",
       "      <td>-0.249464</td>\n",
       "      <td>normal.</td>\n",
       "      <td>4</td>\n",
       "    </tr>\n",
       "    <tr>\n",
       "      <th>2</th>\n",
       "      <td>-0.067792</td>\n",
       "      <td>tcp</td>\n",
       "      <td>http</td>\n",
       "      <td>SF</td>\n",
       "      <td>-0.002824</td>\n",
       "      <td>0.014179</td>\n",
       "      <td>-0.006673</td>\n",
       "      <td>-0.04772</td>\n",
       "      <td>-0.002571</td>\n",
       "      <td>-0.044136</td>\n",
       "      <td>...</td>\n",
       "      <td>0.599396</td>\n",
       "      <td>-0.282867</td>\n",
       "      <td>-1.188291</td>\n",
       "      <td>-0.158629</td>\n",
       "      <td>-0.464418</td>\n",
       "      <td>-0.463202</td>\n",
       "      <td>-0.25204</td>\n",
       "      <td>-0.249464</td>\n",
       "      <td>normal.</td>\n",
       "      <td>4</td>\n",
       "    </tr>\n",
       "    <tr>\n",
       "      <th>3</th>\n",
       "      <td>-0.067792</td>\n",
       "      <td>tcp</td>\n",
       "      <td>http</td>\n",
       "      <td>SF</td>\n",
       "      <td>-0.002840</td>\n",
       "      <td>0.014179</td>\n",
       "      <td>-0.006673</td>\n",
       "      <td>-0.04772</td>\n",
       "      <td>-0.002571</td>\n",
       "      <td>-0.044136</td>\n",
       "      <td>...</td>\n",
       "      <td>0.599396</td>\n",
       "      <td>-0.282867</td>\n",
       "      <td>-1.188291</td>\n",
       "      <td>-0.158629</td>\n",
       "      <td>-0.464418</td>\n",
       "      <td>-0.463202</td>\n",
       "      <td>-0.25204</td>\n",
       "      <td>-0.249464</td>\n",
       "      <td>normal.</td>\n",
       "      <td>4</td>\n",
       "    </tr>\n",
       "    <tr>\n",
       "      <th>4</th>\n",
       "      <td>-0.067792</td>\n",
       "      <td>tcp</td>\n",
       "      <td>http</td>\n",
       "      <td>SF</td>\n",
       "      <td>-0.002842</td>\n",
       "      <td>0.035214</td>\n",
       "      <td>-0.006673</td>\n",
       "      <td>-0.04772</td>\n",
       "      <td>-0.002571</td>\n",
       "      <td>-0.044136</td>\n",
       "      <td>...</td>\n",
       "      <td>0.599396</td>\n",
       "      <td>-0.282867</td>\n",
       "      <td>-1.209067</td>\n",
       "      <td>-0.158629</td>\n",
       "      <td>-0.464418</td>\n",
       "      <td>-0.463202</td>\n",
       "      <td>-0.25204</td>\n",
       "      <td>-0.249464</td>\n",
       "      <td>normal.</td>\n",
       "      <td>4</td>\n",
       "    </tr>\n",
       "    <tr>\n",
       "      <th>...</th>\n",
       "      <td>...</td>\n",
       "      <td>...</td>\n",
       "      <td>...</td>\n",
       "      <td>...</td>\n",
       "      <td>...</td>\n",
       "      <td>...</td>\n",
       "      <td>...</td>\n",
       "      <td>...</td>\n",
       "      <td>...</td>\n",
       "      <td>...</td>\n",
       "      <td>...</td>\n",
       "      <td>...</td>\n",
       "      <td>...</td>\n",
       "      <td>...</td>\n",
       "      <td>...</td>\n",
       "      <td>...</td>\n",
       "      <td>...</td>\n",
       "      <td>...</td>\n",
       "      <td>...</td>\n",
       "      <td>...</td>\n",
       "      <td>...</td>\n",
       "    </tr>\n",
       "    <tr>\n",
       "      <th>494016</th>\n",
       "      <td>-0.067792</td>\n",
       "      <td>tcp</td>\n",
       "      <td>http</td>\n",
       "      <td>SF</td>\n",
       "      <td>-0.002748</td>\n",
       "      <td>0.030644</td>\n",
       "      <td>-0.006673</td>\n",
       "      <td>-0.04772</td>\n",
       "      <td>-0.002571</td>\n",
       "      <td>-0.044136</td>\n",
       "      <td>...</td>\n",
       "      <td>0.599396</td>\n",
       "      <td>-0.282867</td>\n",
       "      <td>-1.229844</td>\n",
       "      <td>1.028094</td>\n",
       "      <td>-0.464418</td>\n",
       "      <td>-0.436950</td>\n",
       "      <td>-0.25204</td>\n",
       "      <td>-0.249464</td>\n",
       "      <td>normal.</td>\n",
       "      <td>4</td>\n",
       "    </tr>\n",
       "    <tr>\n",
       "      <th>494017</th>\n",
       "      <td>-0.067792</td>\n",
       "      <td>tcp</td>\n",
       "      <td>http</td>\n",
       "      <td>SF</td>\n",
       "      <td>-0.002776</td>\n",
       "      <td>0.042902</td>\n",
       "      <td>-0.006673</td>\n",
       "      <td>-0.04772</td>\n",
       "      <td>-0.002571</td>\n",
       "      <td>-0.044136</td>\n",
       "      <td>...</td>\n",
       "      <td>0.599396</td>\n",
       "      <td>-0.282867</td>\n",
       "      <td>-0.897417</td>\n",
       "      <td>1.028094</td>\n",
       "      <td>-0.464418</td>\n",
       "      <td>-0.436950</td>\n",
       "      <td>-0.25204</td>\n",
       "      <td>-0.249464</td>\n",
       "      <td>normal.</td>\n",
       "      <td>4</td>\n",
       "    </tr>\n",
       "    <tr>\n",
       "      <th>494018</th>\n",
       "      <td>-0.067792</td>\n",
       "      <td>tcp</td>\n",
       "      <td>http</td>\n",
       "      <td>SF</td>\n",
       "      <td>-0.002856</td>\n",
       "      <td>0.010032</td>\n",
       "      <td>-0.006673</td>\n",
       "      <td>-0.04772</td>\n",
       "      <td>-0.002571</td>\n",
       "      <td>-0.044136</td>\n",
       "      <td>...</td>\n",
       "      <td>0.599396</td>\n",
       "      <td>-0.282867</td>\n",
       "      <td>-1.125961</td>\n",
       "      <td>1.028094</td>\n",
       "      <td>-0.306769</td>\n",
       "      <td>-0.436950</td>\n",
       "      <td>-0.25204</td>\n",
       "      <td>-0.249464</td>\n",
       "      <td>normal.</td>\n",
       "      <td>4</td>\n",
       "    </tr>\n",
       "    <tr>\n",
       "      <th>494019</th>\n",
       "      <td>-0.067792</td>\n",
       "      <td>tcp</td>\n",
       "      <td>http</td>\n",
       "      <td>SF</td>\n",
       "      <td>-0.002767</td>\n",
       "      <td>0.010032</td>\n",
       "      <td>-0.006673</td>\n",
       "      <td>-0.04772</td>\n",
       "      <td>-0.002571</td>\n",
       "      <td>-0.044136</td>\n",
       "      <td>...</td>\n",
       "      <td>0.599396</td>\n",
       "      <td>-0.282867</td>\n",
       "      <td>-1.167514</td>\n",
       "      <td>1.028094</td>\n",
       "      <td>-0.359318</td>\n",
       "      <td>-0.436950</td>\n",
       "      <td>-0.25204</td>\n",
       "      <td>-0.249464</td>\n",
       "      <td>normal.</td>\n",
       "      <td>4</td>\n",
       "    </tr>\n",
       "    <tr>\n",
       "      <th>494020</th>\n",
       "      <td>-0.067792</td>\n",
       "      <td>tcp</td>\n",
       "      <td>http</td>\n",
       "      <td>SF</td>\n",
       "      <td>-0.002840</td>\n",
       "      <td>0.011061</td>\n",
       "      <td>-0.006673</td>\n",
       "      <td>-0.04772</td>\n",
       "      <td>-0.002571</td>\n",
       "      <td>-0.044136</td>\n",
       "      <td>...</td>\n",
       "      <td>0.599396</td>\n",
       "      <td>-0.282867</td>\n",
       "      <td>-0.897417</td>\n",
       "      <td>1.028094</td>\n",
       "      <td>-0.464418</td>\n",
       "      <td>-0.436950</td>\n",
       "      <td>-0.25204</td>\n",
       "      <td>-0.249464</td>\n",
       "      <td>normal.</td>\n",
       "      <td>4</td>\n",
       "    </tr>\n",
       "  </tbody>\n",
       "</table>\n",
       "<p>494021 rows × 43 columns</p>\n",
       "</div>"
      ],
      "text/plain": [
       "        duration protocol_type service flag  src_bytes  dst_bytes      land  \\\n",
       "0      -0.067792           tcp    http   SF  -0.002879   0.138664 -0.006673   \n",
       "1      -0.067792           tcp    http   SF  -0.002820  -0.011578 -0.006673   \n",
       "2      -0.067792           tcp    http   SF  -0.002824   0.014179 -0.006673   \n",
       "3      -0.067792           tcp    http   SF  -0.002840   0.014179 -0.006673   \n",
       "4      -0.067792           tcp    http   SF  -0.002842   0.035214 -0.006673   \n",
       "...          ...           ...     ...  ...        ...        ...       ...   \n",
       "494016 -0.067792           tcp    http   SF  -0.002748   0.030644 -0.006673   \n",
       "494017 -0.067792           tcp    http   SF  -0.002776   0.042902 -0.006673   \n",
       "494018 -0.067792           tcp    http   SF  -0.002856   0.010032 -0.006673   \n",
       "494019 -0.067792           tcp    http   SF  -0.002767   0.010032 -0.006673   \n",
       "494020 -0.067792           tcp    http   SF  -0.002840   0.011061 -0.006673   \n",
       "\n",
       "        wrong_fragment    urgent       hot  ...  dst_host_same_srv_rate  \\\n",
       "0             -0.04772 -0.002571 -0.044136  ...                0.599396   \n",
       "1             -0.04772 -0.002571 -0.044136  ...                0.599396   \n",
       "2             -0.04772 -0.002571 -0.044136  ...                0.599396   \n",
       "3             -0.04772 -0.002571 -0.044136  ...                0.599396   \n",
       "4             -0.04772 -0.002571 -0.044136  ...                0.599396   \n",
       "...                ...       ...       ...  ...                     ...   \n",
       "494016        -0.04772 -0.002571 -0.044136  ...                0.599396   \n",
       "494017        -0.04772 -0.002571 -0.044136  ...                0.599396   \n",
       "494018        -0.04772 -0.002571 -0.044136  ...                0.599396   \n",
       "494019        -0.04772 -0.002571 -0.044136  ...                0.599396   \n",
       "494020        -0.04772 -0.002571 -0.044136  ...                0.599396   \n",
       "\n",
       "        dst_host_diff_srv_rate  dst_host_same_src_port_rate  \\\n",
       "0                    -0.282867                    -1.022077   \n",
       "1                    -0.282867                    -1.146737   \n",
       "2                    -0.282867                    -1.188291   \n",
       "3                    -0.282867                    -1.188291   \n",
       "4                    -0.282867                    -1.209067   \n",
       "...                        ...                          ...   \n",
       "494016               -0.282867                    -1.229844   \n",
       "494017               -0.282867                    -0.897417   \n",
       "494018               -0.282867                    -1.125961   \n",
       "494019               -0.282867                    -1.167514   \n",
       "494020               -0.282867                    -0.897417   \n",
       "\n",
       "        dst_host_srv_diff_host_rate  dst_host_serror_rate  \\\n",
       "0                         -0.158629             -0.464418   \n",
       "1                         -0.158629             -0.464418   \n",
       "2                         -0.158629             -0.464418   \n",
       "3                         -0.158629             -0.464418   \n",
       "4                         -0.158629             -0.464418   \n",
       "...                             ...                   ...   \n",
       "494016                     1.028094             -0.464418   \n",
       "494017                     1.028094             -0.464418   \n",
       "494018                     1.028094             -0.306769   \n",
       "494019                     1.028094             -0.359318   \n",
       "494020                     1.028094             -0.464418   \n",
       "\n",
       "        dst_host_srv_serror_rate  dst_host_rerror_rate  \\\n",
       "0                      -0.463202              -0.25204   \n",
       "1                      -0.463202              -0.25204   \n",
       "2                      -0.463202              -0.25204   \n",
       "3                      -0.463202              -0.25204   \n",
       "4                      -0.463202              -0.25204   \n",
       "...                          ...                   ...   \n",
       "494016                 -0.436950              -0.25204   \n",
       "494017                 -0.436950              -0.25204   \n",
       "494018                 -0.436950              -0.25204   \n",
       "494019                 -0.436950              -0.25204   \n",
       "494020                 -0.436950              -0.25204   \n",
       "\n",
       "        dst_host_srv_rerror_rate   target  intrusion  \n",
       "0                      -0.249464  normal.          4  \n",
       "1                      -0.249464  normal.          4  \n",
       "2                      -0.249464  normal.          4  \n",
       "3                      -0.249464  normal.          4  \n",
       "4                      -0.249464  normal.          4  \n",
       "...                          ...      ...        ...  \n",
       "494016                 -0.249464  normal.          4  \n",
       "494017                 -0.249464  normal.          4  \n",
       "494018                 -0.249464  normal.          4  \n",
       "494019                 -0.249464  normal.          4  \n",
       "494020                 -0.249464  normal.          4  \n",
       "\n",
       "[494021 rows x 43 columns]"
      ]
     },
     "execution_count": 17,
     "metadata": {},
     "output_type": "execute_result"
    }
   ],
   "source": [
    "# label encoding (0,1,2,3,4) multi-class labels (Dos,normal,Probe,R2L,U2R)\n",
    "le2 = preprocessing.LabelEncoder()\n",
    "enc_label = multi_label.apply(le2.fit_transform)\n",
    "multi_data['intrusion'] = enc_label\n",
    "#y_mul = multi_data['intrusion']\n",
    "multi_data"
   ]
  },
  {
   "cell_type": "code",
   "execution_count": 18,
   "metadata": {
    "execution": {
     "iopub.execute_input": "2022-10-30T16:46:18.326717Z",
     "iopub.status.busy": "2022-10-30T16:46:18.326322Z",
     "iopub.status.idle": "2022-10-30T16:46:18.662257Z",
     "shell.execute_reply": "2022-10-30T16:46:18.661220Z"
    },
    "papermill": {
     "duration": 0.350285,
     "end_time": "2022-10-30T16:46:18.664687",
     "exception": false,
     "start_time": "2022-10-30T16:46:18.314402",
     "status": "completed"
    },
    "tags": []
   },
   "outputs": [
    {
     "data": {
      "text/html": [
       "<div>\n",
       "<style scoped>\n",
       "    .dataframe tbody tr th:only-of-type {\n",
       "        vertical-align: middle;\n",
       "    }\n",
       "\n",
       "    .dataframe tbody tr th {\n",
       "        vertical-align: top;\n",
       "    }\n",
       "\n",
       "    .dataframe thead th {\n",
       "        text-align: right;\n",
       "    }\n",
       "</style>\n",
       "<table border=\"1\" class=\"dataframe\">\n",
       "  <thead>\n",
       "    <tr style=\"text-align: right;\">\n",
       "      <th></th>\n",
       "      <th>duration</th>\n",
       "      <th>protocol_type</th>\n",
       "      <th>service</th>\n",
       "      <th>flag</th>\n",
       "      <th>src_bytes</th>\n",
       "      <th>dst_bytes</th>\n",
       "      <th>land</th>\n",
       "      <th>wrong_fragment</th>\n",
       "      <th>urgent</th>\n",
       "      <th>hot</th>\n",
       "      <th>...</th>\n",
       "      <th>dst_host_srv_count</th>\n",
       "      <th>dst_host_same_srv_rate</th>\n",
       "      <th>dst_host_diff_srv_rate</th>\n",
       "      <th>dst_host_same_src_port_rate</th>\n",
       "      <th>dst_host_srv_diff_host_rate</th>\n",
       "      <th>dst_host_serror_rate</th>\n",
       "      <th>dst_host_srv_serror_rate</th>\n",
       "      <th>dst_host_rerror_rate</th>\n",
       "      <th>dst_host_srv_rerror_rate</th>\n",
       "      <th>intrusion</th>\n",
       "    </tr>\n",
       "  </thead>\n",
       "  <tbody>\n",
       "    <tr>\n",
       "      <th>0</th>\n",
       "      <td>-0.067792</td>\n",
       "      <td>tcp</td>\n",
       "      <td>http</td>\n",
       "      <td>SF</td>\n",
       "      <td>-0.002879</td>\n",
       "      <td>0.138664</td>\n",
       "      <td>-0.006673</td>\n",
       "      <td>-0.04772</td>\n",
       "      <td>-0.002571</td>\n",
       "      <td>-0.044136</td>\n",
       "      <td>...</td>\n",
       "      <td>-1.694315</td>\n",
       "      <td>0.599396</td>\n",
       "      <td>-0.282867</td>\n",
       "      <td>-1.022077</td>\n",
       "      <td>-0.158629</td>\n",
       "      <td>-0.464418</td>\n",
       "      <td>-0.463202</td>\n",
       "      <td>-0.25204</td>\n",
       "      <td>-0.249464</td>\n",
       "      <td>4</td>\n",
       "    </tr>\n",
       "    <tr>\n",
       "      <th>1</th>\n",
       "      <td>-0.067792</td>\n",
       "      <td>tcp</td>\n",
       "      <td>http</td>\n",
       "      <td>SF</td>\n",
       "      <td>-0.002820</td>\n",
       "      <td>-0.011578</td>\n",
       "      <td>-0.006673</td>\n",
       "      <td>-0.04772</td>\n",
       "      <td>-0.002571</td>\n",
       "      <td>-0.044136</td>\n",
       "      <td>...</td>\n",
       "      <td>-1.600011</td>\n",
       "      <td>0.599396</td>\n",
       "      <td>-0.282867</td>\n",
       "      <td>-1.146737</td>\n",
       "      <td>-0.158629</td>\n",
       "      <td>-0.464418</td>\n",
       "      <td>-0.463202</td>\n",
       "      <td>-0.25204</td>\n",
       "      <td>-0.249464</td>\n",
       "      <td>4</td>\n",
       "    </tr>\n",
       "    <tr>\n",
       "      <th>2</th>\n",
       "      <td>-0.067792</td>\n",
       "      <td>tcp</td>\n",
       "      <td>http</td>\n",
       "      <td>SF</td>\n",
       "      <td>-0.002824</td>\n",
       "      <td>0.014179</td>\n",
       "      <td>-0.006673</td>\n",
       "      <td>-0.04772</td>\n",
       "      <td>-0.002571</td>\n",
       "      <td>-0.044136</td>\n",
       "      <td>...</td>\n",
       "      <td>-1.505707</td>\n",
       "      <td>0.599396</td>\n",
       "      <td>-0.282867</td>\n",
       "      <td>-1.188291</td>\n",
       "      <td>-0.158629</td>\n",
       "      <td>-0.464418</td>\n",
       "      <td>-0.463202</td>\n",
       "      <td>-0.25204</td>\n",
       "      <td>-0.249464</td>\n",
       "      <td>4</td>\n",
       "    </tr>\n",
       "    <tr>\n",
       "      <th>3</th>\n",
       "      <td>-0.067792</td>\n",
       "      <td>tcp</td>\n",
       "      <td>http</td>\n",
       "      <td>SF</td>\n",
       "      <td>-0.002840</td>\n",
       "      <td>0.014179</td>\n",
       "      <td>-0.006673</td>\n",
       "      <td>-0.04772</td>\n",
       "      <td>-0.002571</td>\n",
       "      <td>-0.044136</td>\n",
       "      <td>...</td>\n",
       "      <td>-1.411403</td>\n",
       "      <td>0.599396</td>\n",
       "      <td>-0.282867</td>\n",
       "      <td>-1.188291</td>\n",
       "      <td>-0.158629</td>\n",
       "      <td>-0.464418</td>\n",
       "      <td>-0.463202</td>\n",
       "      <td>-0.25204</td>\n",
       "      <td>-0.249464</td>\n",
       "      <td>4</td>\n",
       "    </tr>\n",
       "    <tr>\n",
       "      <th>4</th>\n",
       "      <td>-0.067792</td>\n",
       "      <td>tcp</td>\n",
       "      <td>http</td>\n",
       "      <td>SF</td>\n",
       "      <td>-0.002842</td>\n",
       "      <td>0.035214</td>\n",
       "      <td>-0.006673</td>\n",
       "      <td>-0.04772</td>\n",
       "      <td>-0.002571</td>\n",
       "      <td>-0.044136</td>\n",
       "      <td>...</td>\n",
       "      <td>-1.317100</td>\n",
       "      <td>0.599396</td>\n",
       "      <td>-0.282867</td>\n",
       "      <td>-1.209067</td>\n",
       "      <td>-0.158629</td>\n",
       "      <td>-0.464418</td>\n",
       "      <td>-0.463202</td>\n",
       "      <td>-0.25204</td>\n",
       "      <td>-0.249464</td>\n",
       "      <td>4</td>\n",
       "    </tr>\n",
       "    <tr>\n",
       "      <th>...</th>\n",
       "      <td>...</td>\n",
       "      <td>...</td>\n",
       "      <td>...</td>\n",
       "      <td>...</td>\n",
       "      <td>...</td>\n",
       "      <td>...</td>\n",
       "      <td>...</td>\n",
       "      <td>...</td>\n",
       "      <td>...</td>\n",
       "      <td>...</td>\n",
       "      <td>...</td>\n",
       "      <td>...</td>\n",
       "      <td>...</td>\n",
       "      <td>...</td>\n",
       "      <td>...</td>\n",
       "      <td>...</td>\n",
       "      <td>...</td>\n",
       "      <td>...</td>\n",
       "      <td>...</td>\n",
       "      <td>...</td>\n",
       "      <td>...</td>\n",
       "    </tr>\n",
       "    <tr>\n",
       "      <th>494016</th>\n",
       "      <td>-0.067792</td>\n",
       "      <td>tcp</td>\n",
       "      <td>http</td>\n",
       "      <td>SF</td>\n",
       "      <td>-0.002748</td>\n",
       "      <td>0.030644</td>\n",
       "      <td>-0.006673</td>\n",
       "      <td>-0.04772</td>\n",
       "      <td>-0.002571</td>\n",
       "      <td>-0.044136</td>\n",
       "      <td>...</td>\n",
       "      <td>0.625558</td>\n",
       "      <td>0.599396</td>\n",
       "      <td>-0.282867</td>\n",
       "      <td>-1.229844</td>\n",
       "      <td>1.028094</td>\n",
       "      <td>-0.464418</td>\n",
       "      <td>-0.436950</td>\n",
       "      <td>-0.25204</td>\n",
       "      <td>-0.249464</td>\n",
       "      <td>4</td>\n",
       "    </tr>\n",
       "    <tr>\n",
       "      <th>494017</th>\n",
       "      <td>-0.067792</td>\n",
       "      <td>tcp</td>\n",
       "      <td>http</td>\n",
       "      <td>SF</td>\n",
       "      <td>-0.002776</td>\n",
       "      <td>0.042902</td>\n",
       "      <td>-0.006673</td>\n",
       "      <td>-0.04772</td>\n",
       "      <td>-0.002571</td>\n",
       "      <td>-0.044136</td>\n",
       "      <td>...</td>\n",
       "      <td>0.625558</td>\n",
       "      <td>0.599396</td>\n",
       "      <td>-0.282867</td>\n",
       "      <td>-0.897417</td>\n",
       "      <td>1.028094</td>\n",
       "      <td>-0.464418</td>\n",
       "      <td>-0.436950</td>\n",
       "      <td>-0.25204</td>\n",
       "      <td>-0.249464</td>\n",
       "      <td>4</td>\n",
       "    </tr>\n",
       "    <tr>\n",
       "      <th>494018</th>\n",
       "      <td>-0.067792</td>\n",
       "      <td>tcp</td>\n",
       "      <td>http</td>\n",
       "      <td>SF</td>\n",
       "      <td>-0.002856</td>\n",
       "      <td>0.010032</td>\n",
       "      <td>-0.006673</td>\n",
       "      <td>-0.04772</td>\n",
       "      <td>-0.002571</td>\n",
       "      <td>-0.044136</td>\n",
       "      <td>...</td>\n",
       "      <td>0.625558</td>\n",
       "      <td>0.599396</td>\n",
       "      <td>-0.282867</td>\n",
       "      <td>-1.125961</td>\n",
       "      <td>1.028094</td>\n",
       "      <td>-0.306769</td>\n",
       "      <td>-0.436950</td>\n",
       "      <td>-0.25204</td>\n",
       "      <td>-0.249464</td>\n",
       "      <td>4</td>\n",
       "    </tr>\n",
       "    <tr>\n",
       "      <th>494019</th>\n",
       "      <td>-0.067792</td>\n",
       "      <td>tcp</td>\n",
       "      <td>http</td>\n",
       "      <td>SF</td>\n",
       "      <td>-0.002767</td>\n",
       "      <td>0.010032</td>\n",
       "      <td>-0.006673</td>\n",
       "      <td>-0.04772</td>\n",
       "      <td>-0.002571</td>\n",
       "      <td>-0.044136</td>\n",
       "      <td>...</td>\n",
       "      <td>0.625558</td>\n",
       "      <td>0.599396</td>\n",
       "      <td>-0.282867</td>\n",
       "      <td>-1.167514</td>\n",
       "      <td>1.028094</td>\n",
       "      <td>-0.359318</td>\n",
       "      <td>-0.436950</td>\n",
       "      <td>-0.25204</td>\n",
       "      <td>-0.249464</td>\n",
       "      <td>4</td>\n",
       "    </tr>\n",
       "    <tr>\n",
       "      <th>494020</th>\n",
       "      <td>-0.067792</td>\n",
       "      <td>tcp</td>\n",
       "      <td>http</td>\n",
       "      <td>SF</td>\n",
       "      <td>-0.002840</td>\n",
       "      <td>0.011061</td>\n",
       "      <td>-0.006673</td>\n",
       "      <td>-0.04772</td>\n",
       "      <td>-0.002571</td>\n",
       "      <td>-0.044136</td>\n",
       "      <td>...</td>\n",
       "      <td>0.625558</td>\n",
       "      <td>0.599396</td>\n",
       "      <td>-0.282867</td>\n",
       "      <td>-0.897417</td>\n",
       "      <td>1.028094</td>\n",
       "      <td>-0.464418</td>\n",
       "      <td>-0.436950</td>\n",
       "      <td>-0.25204</td>\n",
       "      <td>-0.249464</td>\n",
       "      <td>4</td>\n",
       "    </tr>\n",
       "  </tbody>\n",
       "</table>\n",
       "<p>494021 rows × 42 columns</p>\n",
       "</div>"
      ],
      "text/plain": [
       "        duration protocol_type service flag  src_bytes  dst_bytes      land  \\\n",
       "0      -0.067792           tcp    http   SF  -0.002879   0.138664 -0.006673   \n",
       "1      -0.067792           tcp    http   SF  -0.002820  -0.011578 -0.006673   \n",
       "2      -0.067792           tcp    http   SF  -0.002824   0.014179 -0.006673   \n",
       "3      -0.067792           tcp    http   SF  -0.002840   0.014179 -0.006673   \n",
       "4      -0.067792           tcp    http   SF  -0.002842   0.035214 -0.006673   \n",
       "...          ...           ...     ...  ...        ...        ...       ...   \n",
       "494016 -0.067792           tcp    http   SF  -0.002748   0.030644 -0.006673   \n",
       "494017 -0.067792           tcp    http   SF  -0.002776   0.042902 -0.006673   \n",
       "494018 -0.067792           tcp    http   SF  -0.002856   0.010032 -0.006673   \n",
       "494019 -0.067792           tcp    http   SF  -0.002767   0.010032 -0.006673   \n",
       "494020 -0.067792           tcp    http   SF  -0.002840   0.011061 -0.006673   \n",
       "\n",
       "        wrong_fragment    urgent       hot  ...  dst_host_srv_count  \\\n",
       "0             -0.04772 -0.002571 -0.044136  ...           -1.694315   \n",
       "1             -0.04772 -0.002571 -0.044136  ...           -1.600011   \n",
       "2             -0.04772 -0.002571 -0.044136  ...           -1.505707   \n",
       "3             -0.04772 -0.002571 -0.044136  ...           -1.411403   \n",
       "4             -0.04772 -0.002571 -0.044136  ...           -1.317100   \n",
       "...                ...       ...       ...  ...                 ...   \n",
       "494016        -0.04772 -0.002571 -0.044136  ...            0.625558   \n",
       "494017        -0.04772 -0.002571 -0.044136  ...            0.625558   \n",
       "494018        -0.04772 -0.002571 -0.044136  ...            0.625558   \n",
       "494019        -0.04772 -0.002571 -0.044136  ...            0.625558   \n",
       "494020        -0.04772 -0.002571 -0.044136  ...            0.625558   \n",
       "\n",
       "        dst_host_same_srv_rate  dst_host_diff_srv_rate  \\\n",
       "0                     0.599396               -0.282867   \n",
       "1                     0.599396               -0.282867   \n",
       "2                     0.599396               -0.282867   \n",
       "3                     0.599396               -0.282867   \n",
       "4                     0.599396               -0.282867   \n",
       "...                        ...                     ...   \n",
       "494016                0.599396               -0.282867   \n",
       "494017                0.599396               -0.282867   \n",
       "494018                0.599396               -0.282867   \n",
       "494019                0.599396               -0.282867   \n",
       "494020                0.599396               -0.282867   \n",
       "\n",
       "        dst_host_same_src_port_rate  dst_host_srv_diff_host_rate  \\\n",
       "0                         -1.022077                    -0.158629   \n",
       "1                         -1.146737                    -0.158629   \n",
       "2                         -1.188291                    -0.158629   \n",
       "3                         -1.188291                    -0.158629   \n",
       "4                         -1.209067                    -0.158629   \n",
       "...                             ...                          ...   \n",
       "494016                    -1.229844                     1.028094   \n",
       "494017                    -0.897417                     1.028094   \n",
       "494018                    -1.125961                     1.028094   \n",
       "494019                    -1.167514                     1.028094   \n",
       "494020                    -0.897417                     1.028094   \n",
       "\n",
       "        dst_host_serror_rate  dst_host_srv_serror_rate  dst_host_rerror_rate  \\\n",
       "0                  -0.464418                 -0.463202              -0.25204   \n",
       "1                  -0.464418                 -0.463202              -0.25204   \n",
       "2                  -0.464418                 -0.463202              -0.25204   \n",
       "3                  -0.464418                 -0.463202              -0.25204   \n",
       "4                  -0.464418                 -0.463202              -0.25204   \n",
       "...                      ...                       ...                   ...   \n",
       "494016             -0.464418                 -0.436950              -0.25204   \n",
       "494017             -0.464418                 -0.436950              -0.25204   \n",
       "494018             -0.306769                 -0.436950              -0.25204   \n",
       "494019             -0.359318                 -0.436950              -0.25204   \n",
       "494020             -0.464418                 -0.436950              -0.25204   \n",
       "\n",
       "        dst_host_srv_rerror_rate  intrusion  \n",
       "0                      -0.249464          4  \n",
       "1                      -0.249464          4  \n",
       "2                      -0.249464          4  \n",
       "3                      -0.249464          4  \n",
       "4                      -0.249464          4  \n",
       "...                          ...        ...  \n",
       "494016                 -0.249464          4  \n",
       "494017                 -0.249464          4  \n",
       "494018                 -0.249464          4  \n",
       "494019                 -0.249464          4  \n",
       "494020                 -0.249464          4  \n",
       "\n",
       "[494021 rows x 42 columns]"
      ]
     },
     "execution_count": 18,
     "metadata": {},
     "output_type": "execute_result"
    }
   ],
   "source": [
    "multi_data.drop(labels= [ 'target'], axis=1, inplace=True)\n",
    "multi_data"
   ]
  },
  {
   "cell_type": "code",
   "execution_count": 19,
   "metadata": {},
   "outputs": [
    {
     "data": {
      "text/plain": [
       "array([ 9,  6,  1,  7,  5,  8,  2,  4,  3,  0, 10], dtype=int64)"
      ]
     },
     "execution_count": 19,
     "metadata": {},
     "output_type": "execute_result"
    }
   ],
   "source": [
    "# Import label encoder\n",
    "from sklearn import preprocessing\n",
    "\n",
    "# label_encoder object knows\n",
    "# how to understand word labels.\n",
    "label_encoder = preprocessing.LabelEncoder()\n",
    "\n",
    "# Encode labels in column 'species'.\n",
    "multi_data['protocol_type']= label_encoder.fit_transform(multi_data['protocol_type'])\n",
    "multi_data['service']= label_encoder.fit_transform(multi_data['service'])\n",
    "multi_data['flag']= label_encoder.fit_transform(multi_data['flag'])\n",
    "\n",
    "multi_data['protocol_type'].unique()\n",
    "multi_data['service'].unique()\n",
    "multi_data['flag'].unique()"
   ]
  },
  {
   "cell_type": "code",
   "execution_count": 20,
   "metadata": {},
   "outputs": [
    {
     "name": "stdout",
     "output_type": "stream",
     "text": [
      "<class 'pandas.core.frame.DataFrame'>\n",
      "RangeIndex: 494021 entries, 0 to 494020\n",
      "Data columns (total 42 columns):\n",
      "duration                       494021 non-null float64\n",
      "protocol_type                  494021 non-null int32\n",
      "service                        494021 non-null int32\n",
      "flag                           494021 non-null int32\n",
      "src_bytes                      494021 non-null float64\n",
      "dst_bytes                      494021 non-null float64\n",
      "land                           494021 non-null float64\n",
      "wrong_fragment                 494021 non-null float64\n",
      "urgent                         494021 non-null float64\n",
      "hot                            494021 non-null float64\n",
      "num_failed_logins              494021 non-null float64\n",
      "logged_in                      494021 non-null float64\n",
      "num_compromised                494021 non-null float64\n",
      "root_shell                     494021 non-null float64\n",
      "su_attempted                   494021 non-null float64\n",
      "num_root                       494021 non-null float64\n",
      "num_file_creations             494021 non-null float64\n",
      "num_shells                     494021 non-null float64\n",
      "num_access_files               494021 non-null float64\n",
      "num_outbound_cmds              494021 non-null float64\n",
      "is_host_login                  494021 non-null float64\n",
      "is_guest_login                 494021 non-null float64\n",
      "count                          494021 non-null float64\n",
      "srv_count                      494021 non-null float64\n",
      "serror_rate                    494021 non-null float64\n",
      "srv_serror_rate                494021 non-null float64\n",
      "rerror_rate                    494021 non-null float64\n",
      "srv_rerror_rate                494021 non-null float64\n",
      "same_srv_rate                  494021 non-null float64\n",
      "diff_srv_rate                  494021 non-null float64\n",
      "srv_diff_host_rate             494021 non-null float64\n",
      "dst_host_count                 494021 non-null float64\n",
      "dst_host_srv_count             494021 non-null float64\n",
      "dst_host_same_srv_rate         494021 non-null float64\n",
      "dst_host_diff_srv_rate         494021 non-null float64\n",
      "dst_host_same_src_port_rate    494021 non-null float64\n",
      "dst_host_srv_diff_host_rate    494021 non-null float64\n",
      "dst_host_serror_rate           494021 non-null float64\n",
      "dst_host_srv_serror_rate       494021 non-null float64\n",
      "dst_host_rerror_rate           494021 non-null float64\n",
      "dst_host_srv_rerror_rate       494021 non-null float64\n",
      "intrusion                      494021 non-null int32\n",
      "dtypes: float64(38), int32(4)\n",
      "memory usage: 150.8 MB\n"
     ]
    }
   ],
   "source": [
    "multi_data.info()"
   ]
  },
  {
   "cell_type": "code",
   "execution_count": 21,
   "metadata": {},
   "outputs": [],
   "source": [
    "#multi_data = multi_data[0:100000]"
   ]
  },
  {
   "cell_type": "code",
   "execution_count": 104,
   "metadata": {},
   "outputs": [],
   "source": [
    "X = multi_data.drop([\"intrusion\"],axis =1)\n",
    "y = multi_data[\"intrusion\"]"
   ]
  },
  {
   "cell_type": "code",
   "execution_count": 105,
   "metadata": {},
   "outputs": [
    {
     "data": {
      "text/plain": [
       "(494021, 14)"
      ]
     },
     "execution_count": 105,
     "metadata": {},
     "output_type": "execute_result"
    }
   ],
   "source": [
    "from sklearn.feature_selection import SelectKBest, SelectPercentile, mutual_info_classif\n",
    "\n",
    "selector = SelectPercentile(mutual_info_classif, percentile=35)\n",
    "X_reduced = selector.fit_transform(X, y)\n",
    "X_reduced.shape\n"
   ]
  },
  {
   "cell_type": "code",
   "execution_count": 106,
   "metadata": {},
   "outputs": [
    {
     "data": {
      "text/plain": [
       "['protocol_type',\n",
       " 'service',\n",
       " 'src_bytes',\n",
       " 'dst_bytes',\n",
       " 'logged_in',\n",
       " 'count',\n",
       " 'srv_count',\n",
       " 'srv_diff_host_rate',\n",
       " 'dst_host_count',\n",
       " 'dst_host_srv_count',\n",
       " 'dst_host_same_srv_rate',\n",
       " 'dst_host_diff_srv_rate',\n",
       " 'dst_host_same_src_port_rate',\n",
       " 'dst_host_srv_diff_host_rate']"
      ]
     },
     "execution_count": 106,
     "metadata": {},
     "output_type": "execute_result"
    }
   ],
   "source": [
    "cols = selector.get_support(indices=True)\n",
    "selected_columns = X.iloc[:,cols].columns.tolist()\n",
    "selected_columns"
   ]
  },
  {
   "cell_type": "code",
   "execution_count": 25,
   "metadata": {},
   "outputs": [],
   "source": [
    "df = multi_data[['protocol_type',\n",
    "                 'service',\n",
    "                 'src_bytes',\n",
    "                 'dst_bytes',\n",
    "                 'logged_in',\n",
    "                 'count',\n",
    "                 'srv_count',\n",
    "                 'srv_diff_host_rate',\n",
    "                 'dst_host_count',\n",
    "                 'dst_host_srv_count',\n",
    "                 'dst_host_same_srv_rate',\n",
    "                 'dst_host_diff_srv_rate',\n",
    "                 'dst_host_same_src_port_rate',\n",
    "                 'dst_host_srv_diff_host_rate',\n",
    "                  'intrusion']]\n",
    "df.to_csv('kddcup_processed.csv')"
   ]
  },
  {
   "cell_type": "code",
   "execution_count": 3,
   "metadata": {},
   "outputs": [
    {
     "data": {
      "text/plain": [
       "0    391458\n",
       "4     97278\n",
       "1      4107\n",
       "2      1126\n",
       "3        52\n",
       "Name: intrusion, dtype: int64"
      ]
     },
     "execution_count": 3,
     "metadata": {},
     "output_type": "execute_result"
    }
   ],
   "source": [
    "df = pd.read_csv('kddcup_processed.csv')\n",
    "df['intrusion'].value_counts()"
   ]
  },
  {
   "cell_type": "code",
   "execution_count": 107,
   "metadata": {},
   "outputs": [],
   "source": [
    "# splitting the dataset 80% for training and 20% testing\n",
    "X_train, X_test, y_train, y_test = train_test_split(X_reduced,y, test_size=0.20, random_state=42)"
   ]
  },
  {
   "cell_type": "code",
   "execution_count": 27,
   "metadata": {},
   "outputs": [],
   "source": [
    "#X_train=X_train.values\n",
    "#X_test=X_test.values\n",
    "\n",
    "X_train = X_train.reshape(-1, X_train.shape[1],1)\n",
    "X_test = X_test.reshape(-1, X_test.shape[1],1)\n",
    "\n",
    "Y_train=to_categorical(y_train)\n",
    "Y_test=to_categorical(y_test)"
   ]
  },
  {
   "cell_type": "code",
   "execution_count": 98,
   "metadata": {},
   "outputs": [],
   "source": [
    "ML_Model = []\n",
    "accuracy = []\n",
    "precision = []\n",
    "recall = []\n",
    "f1score = []\n",
    "\n",
    "#function to call for storing the results\n",
    "def storeResults(model, a,b,c,d):\n",
    "    ML_Model.append(model)\n",
    "    accuracy.append(round(a, 3))\n",
    "    precision.append(round(b, 3))\n",
    "    recall.append(round(c, 3))\n",
    "    f1score.append(round(d, 3))"
   ]
  },
  {
   "cell_type": "markdown",
   "metadata": {},
   "source": [
    "# CNN"
   ]
  },
  {
   "cell_type": "code",
   "execution_count": 29,
   "metadata": {
    "execution": {
     "iopub.execute_input": "2022-10-30T16:46:20.827172Z",
     "iopub.status.busy": "2022-10-30T16:46:20.826789Z",
     "iopub.status.idle": "2022-10-30T16:46:20.985882Z",
     "shell.execute_reply": "2022-10-30T16:46:20.984733Z"
    },
    "id": "dPTN_h9s4tuk",
    "papermill": {
     "duration": 0.180942,
     "end_time": "2022-10-30T16:46:20.988583",
     "exception": false,
     "start_time": "2022-10-30T16:46:20.807641",
     "status": "completed"
    },
    "tags": []
   },
   "outputs": [
    {
     "name": "stdout",
     "output_type": "stream",
     "text": [
      "Model: \"sequential\"\n",
      "_________________________________________________________________\n",
      "Layer (type)                 Output Shape              Param #   \n",
      "=================================================================\n",
      "conv1d (Conv1D)              (None, 13, 128)           384       \n",
      "_________________________________________________________________\n",
      "max_pooling1d (MaxPooling1D) (None, 6, 128)            0         \n",
      "_________________________________________________________________\n",
      "dropout (Dropout)            (None, 6, 128)            0         \n",
      "_________________________________________________________________\n",
      "flatten (Flatten)            (None, 768)               0         \n",
      "_________________________________________________________________\n",
      "dense (Dense)                (None, 5)                 3845      \n",
      "=================================================================\n",
      "Total params: 4,229\n",
      "Trainable params: 4,229\n",
      "Non-trainable params: 0\n",
      "_________________________________________________________________\n"
     ]
    }
   ],
   "source": [
    "from tensorflow.keras.models import Sequential\n",
    "from tensorflow.keras.layers import Dense\n",
    "from tensorflow.keras.models import Model, load_model\n",
    "from tensorflow.keras.utils import to_categorical\n",
    "from tensorflow.keras.layers import Dropout\n",
    "from tensorflow.keras.layers import Flatten\n",
    "from tensorflow.keras.layers import Conv1D\n",
    "from tensorflow.keras.layers import MaxPooling1D\n",
    "\n",
    "verbose, epoch, batch_size = 1, 100, 4\n",
    "activationFunction='relu'\n",
    "\n",
    "def CNN():\n",
    "    \n",
    "    cnnmodel = Sequential()\n",
    "    cnnmodel.add(Conv1D(filters=128, kernel_size=2, activation='relu',input_shape=(X_train.shape[1],X_train.shape[2])))\n",
    "    cnnmodel.add(MaxPooling1D(pool_size=2))\n",
    "    cnnmodel.add(Dropout(rate=0.2))\n",
    "    cnnmodel.add(Flatten())\n",
    "    cnnmodel.add(Dense(5, activation='softmax'))\n",
    "    cnnmodel.compile(optimizer='adam', loss='categorical_crossentropy',metrics=['accuracy'])\n",
    "    cnnmodel.summary()\n",
    "    return cnnmodel\n",
    "\n",
    "cnnmodel = CNN()"
   ]
  },
  {
   "cell_type": "code",
   "execution_count": 31,
   "metadata": {
    "execution": {
     "iopub.execute_input": "2022-10-30T16:46:21.092667Z",
     "iopub.status.busy": "2022-10-30T16:46:21.092300Z",
     "iopub.status.idle": "2022-10-30T17:01:38.710807Z",
     "shell.execute_reply": "2022-10-30T17:01:38.709679Z"
    },
    "id": "Bhje-NAJ4yUX",
    "outputId": "e921a342-7107-4bf0-fb75-50f5b3384a27",
    "papermill": {
     "duration": 917.634282,
     "end_time": "2022-10-30T17:01:38.713041",
     "exception": false,
     "start_time": "2022-10-30T16:46:21.078759",
     "status": "completed"
    },
    "tags": []
   },
   "outputs": [
    {
     "name": "stdout",
     "output_type": "stream",
     "text": [
      "Epoch 1/5\n",
      "79043/79043 [==============================] - 200s 3ms/step - loss: 0.0428 - accuracy: 0.9895 - val_loss: 0.0239 - val_accuracy: 0.9934\n",
      "Epoch 2/5\n",
      "79043/79043 [==============================] - 205s 3ms/step - loss: 0.0399 - accuracy: 0.9907 - val_loss: 0.0213 - val_accuracy: 0.9934\n",
      "Epoch 3/5\n",
      "79043/79043 [==============================] - 206s 3ms/step - loss: 0.0377 - accuracy: 0.9912 - val_loss: 0.0188 - val_accuracy: 0.9950\n",
      "Epoch 4/5\n",
      "79043/79043 [==============================] - 205s 3ms/step - loss: 0.0368 - accuracy: 0.9915 - val_loss: 0.0219 - val_accuracy: 0.9942\n",
      "Epoch 5/5\n",
      "79043/79043 [==============================] - 204s 3ms/step - loss: 0.0400 - accuracy: 0.9917 - val_loss: 0.0184 - val_accuracy: 0.9959\n"
     ]
    }
   ],
   "source": [
    "modelhistory = cnnmodel.fit(X_train, Y_train, epochs=5, verbose=verbose, validation_split=0.2, batch_size = batch_size)"
   ]
  },
  {
   "cell_type": "code",
   "execution_count": 32,
   "metadata": {
    "execution": {
     "iopub.execute_input": "2022-10-30T17:01:47.846299Z",
     "iopub.status.busy": "2022-10-30T17:01:47.845882Z",
     "iopub.status.idle": "2022-10-30T17:01:48.091709Z",
     "shell.execute_reply": "2022-10-30T17:01:48.090072Z"
    },
    "id": "TpCYveLe5Bbu",
    "outputId": "509f5ac3-d747-4dc7-efc6-7e665dab365d",
    "papermill": {
     "duration": 0.677537,
     "end_time": "2022-10-30T17:01:48.094380",
     "exception": false,
     "start_time": "2022-10-30T17:01:47.416843",
     "status": "completed"
    },
    "tags": []
   },
   "outputs": [
    {
     "data": {
      "image/png": "[encoded data removed]",
      "text/plain": [
       "<Figure size 432x288 with 1 Axes>"
      ]
     },
     "metadata": {
      "needs_background": "light"
     },
     "output_type": "display_data"
    }
   ],
   "source": [
    "# Plot of accuracy vs epoch for train and test dataset\n",
    "plt.plot(modelhistory.history['accuracy'])\n",
    "plt.plot(modelhistory.history['val_accuracy'])\n",
    "plt.title(\"Plot of accuracy vs epoch for train and test dataset\")\n",
    "plt.ylabel('accuracy')\n",
    "plt.xlabel('epoch')\n",
    "plt.show()"
   ]
  },
  {
   "cell_type": "code",
   "execution_count": 33,
   "metadata": {
    "execution": {
     "iopub.execute_input": "2022-10-30T17:01:48.968685Z",
     "iopub.status.busy": "2022-10-30T17:01:48.968231Z",
     "iopub.status.idle": "2022-10-30T17:01:49.123740Z",
     "shell.execute_reply": "2022-10-30T17:01:49.122369Z"
    },
    "id": "9CbS1q1C5EHn",
    "outputId": "3566efcf-6322-4dbb-eee9-cd59fad0bc88",
    "papermill": {
     "duration": 0.626517,
     "end_time": "2022-10-30T17:01:49.127056",
     "exception": false,
     "start_time": "2022-10-30T17:01:48.500539",
     "status": "completed"
    },
    "tags": []
   },
   "outputs": [
    {
     "data": {
      "image/png": "[encoded data removed]",
      "text/plain": [
       "<Figure size 432x288 with 1 Axes>"
      ]
     },
     "metadata": {
      "needs_background": "light"
     },
     "output_type": "display_data"
    }
   ],
   "source": [
    "# Plot of loss vs epoch for train and test dataset\n",
    "plt.plot(modelhistory.history['loss'])\n",
    "plt.plot(modelhistory.history['val_loss'])\n",
    "plt.title(\"Plot of loss vs epoch for train and test dataset\")\n",
    "plt.ylabel('loss')\n",
    "plt.xlabel('epoch')\n",
    "plt.legend(['train', 'test'], loc='upper right')\n",
    "plt.show()"
   ]
  },
  {
   "cell_type": "code",
   "execution_count": 34,
   "metadata": {},
   "outputs": [
    {
     "name": "stdout",
     "output_type": "stream",
     "text": [
      "3088/3088 [==============================] - 1s 448us/step\n",
      "3088/3088 [==============================] - 1s 426us/step\n"
     ]
    }
   ],
   "source": [
    "cnnpredictions = cnnmodel.predict(X_test, verbose=1)\n",
    "cnn_predict=np.argmax(cnnpredictions,axis=1)\n",
    "\n",
    "y_pred = cnnmodel.predict(X_test, verbose=1)\n",
    "y_pred = np.argmax(y_pred,axis=1)\n",
    "\n",
    "#y_prob = cnnmodel.predict_proba(X_test)[:, 1]\n",
    "\n",
    "cnn_acc = accuracy_score(y_pred, y_test)\n",
    "cnn_prec = precision_score(y_pred, y_test,average='weighted')\n",
    "cnn_rec = recall_score(y_pred, y_test,average='weighted')\n",
    "cnn_f1 = f1_score(y_pred, y_test,average='weighted')"
   ]
  },
  {
   "cell_type": "code",
   "execution_count": 99,
   "metadata": {},
   "outputs": [],
   "source": [
    "storeResults('CNN',cnn_acc,cnn_prec,cnn_rec,cnn_f1)"
   ]
  },
  {
   "cell_type": "markdown",
   "metadata": {},
   "source": [
    "# LSTM"
   ]
  },
  {
   "cell_type": "code",
   "execution_count": 35,
   "metadata": {},
   "outputs": [
    {
     "name": "stdout",
     "output_type": "stream",
     "text": [
      "WARNING:tensorflow:Layer lstm will not use cuDNN kernels since it doesn't meet the criteria. It will use a generic GPU kernel as fallback when running on GPU.\n",
      "WARNING:tensorflow:Layer lstm_1 will not use cuDNN kernels since it doesn't meet the criteria. It will use a generic GPU kernel as fallback when running on GPU.\n",
      "WARNING:tensorflow:Layer lstm_2 will not use cuDNN kernels since it doesn't meet the criteria. It will use a generic GPU kernel as fallback when running on GPU.\n",
      "WARNING:tensorflow:Layer lstm_3 will not use cuDNN kernels since it doesn't meet the criteria. It will use a generic GPU kernel as fallback when running on GPU.\n"
     ]
    }
   ],
   "source": [
    "from keras.models import Sequential\n",
    "from keras.layers import Dense, LSTM\n",
    "from keras.layers import Dropout\n",
    "from keras import regularizers\n",
    "import tensorflow as tf\n",
    "\n",
    "# define a function to build the keras model\n",
    "def create_model(input_shape):\n",
    "    # create model\n",
    "    d = 0.25\n",
    "    model = Sequential()\n",
    "    \n",
    "    model.add(LSTM(32, input_shape=input_shape, activation='relu', return_sequences=True))\n",
    "    model.add(Dropout(d))\n",
    "\n",
    "    model.add(LSTM(64,activation='relu', return_sequences=True))\n",
    "    model.add(Dropout(d))\n",
    "        \n",
    "    model.add(LSTM(128, activation='relu', return_sequences=True))\n",
    "    model.add(Dropout(d))\n",
    "\n",
    "    model.add(LSTM(256, activation='relu', return_sequences=False))\n",
    "    model.add(Dropout(d))\n",
    "   \n",
    "    model.add(Dense(32,kernel_initializer=\"uniform\",activation='relu'))        \n",
    "    model.add(Dense(1,kernel_initializer=\"uniform\",activation='linear'))\n",
    "    \n",
    "    # compile model\n",
    "    adam = tf.keras.optimizers.Adam(learning_rate=0.001, decay=0.00001)\n",
    "    #model.compile(loss='mse', optimizer='adam', metrics=['accuracy'])\n",
    "    model.compile(loss='categorical_crossentropy', optimizer='adam', metrics=['accuracy'])\n",
    "    #model.compile(loss='binary_crossentropy', optimizer='adam', metrics=['accuracy'])\n",
    "    return model\n",
    "\n",
    "model = create_model(input_shape=(14,1))\n",
    "#print(model.summary())"
   ]
  },
  {
   "cell_type": "code",
   "execution_count": 36,
   "metadata": {},
   "outputs": [
    {
     "name": "stdout",
     "output_type": "stream",
     "text": [
      "Epoch 1/5\n",
      "500/500 [==============================] - 74s 127ms/step - loss: 1.0173e-07 - accuracy: 0.7825 - val_loss: 9.0265e-08 - val_accuracy: 0.8040\n",
      "Epoch 2/5\n",
      "500/500 [==============================] - 63s 126ms/step - loss: 9.2387e-08 - accuracy: 0.7988 - val_loss: 9.0265e-08 - val_accuracy: 0.8040\n",
      "Epoch 3/5\n",
      "500/500 [==============================] - 63s 126ms/step - loss: 1.0346e-07 - accuracy: 0.7747 - val_loss: 9.0265e-08 - val_accuracy: 0.8040\n",
      "Epoch 4/5\n",
      "500/500 [==============================] - 63s 126ms/step - loss: 8.9346e-08 - accuracy: 0.8059 - val_loss: 9.0265e-08 - val_accuracy: 0.8040\n",
      "Epoch 5/5\n",
      "500/500 [==============================] - 63s 126ms/step - loss: 9.8267e-08 - accuracy: 0.7901 - val_loss: 9.0265e-08 - val_accuracy: 0.8040\n"
     ]
    }
   ],
   "source": [
    "history=model.fit(X_train, y_train, validation_data=(X_test, y_test),epochs=5, batch_size=5, verbose=1, steps_per_epoch=500, validation_steps=500)"
   ]
  },
  {
   "cell_type": "code",
   "execution_count": 37,
   "metadata": {},
   "outputs": [
    {
     "data": {
      "image/png": "[encoded data removed]",
      "text/plain": [
       "<Figure size 432x288 with 1 Axes>"
      ]
     },
     "metadata": {
      "needs_background": "light"
     },
     "output_type": "display_data"
    },
    {
     "data": {
      "image/png": "[encoded data removed]",
      "text/plain": [
       "<Figure size 432x288 with 1 Axes>"
      ]
     },
     "metadata": {
      "needs_background": "light"
     },
     "output_type": "display_data"
    },
    {
     "name": "stdout",
     "output_type": "stream",
     "text": [
      "3088/3088 [==============================] - 81s 26ms/step\n"
     ]
    }
   ],
   "source": [
    "# Plot training & validation loss values\n",
    "plt.plot(history.history['loss'])\n",
    "plt.plot(history.history['val_loss'])\n",
    "plt.title('Model loss')\n",
    "plt.ylabel('Loss')\n",
    "plt.xlabel('Epoch')\n",
    "plt.legend(['Train', 'Validation'], loc='upper left')\n",
    "plt.savefig('loss.png', format='png', dpi=1200)\n",
    "plt.show()\n",
    "\n",
    "\n",
    "# Plot training & validation accuracy values\n",
    "plt.plot(history.history['accuracy'])\n",
    "plt.plot(history.history['val_accuracy'])\n",
    "plt.title('Model accuracy')\n",
    "plt.ylabel('Accuracy')\n",
    "plt.xlabel('Epoch')\n",
    "plt.legend(['Train', 'Validation'], loc='upper left')\n",
    "plt.savefig('accuracy.png', format='png', dpi=1200)\n",
    "plt.show()\n",
    "\n",
    "y_pred = model.predict(X_test, verbose=1)\n",
    "y_pred = np.argmax(y_pred,axis=1)\n",
    "\n",
    "\n",
    "#y_prob = cnnmodel.predict_proba(X_test)[:, 1]\n",
    "\n",
    "lstm_acc = accuracy_score(y_pred, y_test)\n",
    "lstm_prec = precision_score(y_pred, y_test,average='weighted')\n",
    "lstm_rec = recall_score(y_pred, y_test,average='weighted')\n",
    "lstm_f1 = f1_score(y_pred, y_test,average='weighted')"
   ]
  },
  {
   "cell_type": "code",
   "execution_count": 100,
   "metadata": {},
   "outputs": [],
   "source": [
    "storeResults('LSTM',lstm_acc,lstm_prec,lstm_rec,lstm_f1)"
   ]
  },
  {
   "cell_type": "markdown",
   "metadata": {},
   "source": [
    "# RNN"
   ]
  },
  {
   "cell_type": "code",
   "execution_count": 38,
   "metadata": {},
   "outputs": [],
   "source": [
    "from keras.models import Sequential\n",
    "from keras.layers import Dense, SimpleRNN\n",
    "from keras.layers import Dropout\n",
    "from keras import regularizers\n",
    "import tensorflow as tf\n",
    "\n",
    "# define a function to build the keras model\n",
    "def create_model(input_shape):\n",
    "    # create model\n",
    "    d = 0.25\n",
    "    model = Sequential()\n",
    "    \n",
    "    model.add(SimpleRNN(32, input_shape=input_shape, activation='relu', return_sequences=True))\n",
    "    model.add(Dropout(d))\n",
    "\n",
    "    model.add(SimpleRNN(64, input_shape=input_shape, activation='relu', return_sequences=True))\n",
    "    model.add(Dropout(d))\n",
    "        \n",
    "    model.add(SimpleRNN(128, input_shape=input_shape, activation='relu', return_sequences=True))\n",
    "    model.add(Dropout(d))\n",
    "\n",
    "    model.add(SimpleRNN(256, input_shape=input_shape, activation='relu', return_sequences=False))\n",
    "    model.add(Dropout(d))\n",
    "   \n",
    "    model.add(Dense(32,kernel_initializer=\"uniform\",activation='relu'))        \n",
    "    model.add(Dense(1,kernel_initializer=\"uniform\",activation='linear'))\n",
    "    \n",
    "    # compile model\n",
    "    adam = tf.keras.optimizers.Adam(learning_rate=0.001, decay=0.00001)\n",
    "    #model.compile(loss='mse', optimizer='adam', metrics=['accuracy'])\n",
    "    model.compile(loss='categorical_crossentropy', optimizer='adam', metrics=['accuracy'])\n",
    "    #model.compile(loss='binary_crossentropy', optimizer='adam', metrics=['accuracy'])\n",
    "    return model\n",
    "\n",
    "model = create_model(input_shape=(14,1))\n",
    "#print(model.summary())"
   ]
  },
  {
   "cell_type": "code",
   "execution_count": 39,
   "metadata": {},
   "outputs": [
    {
     "name": "stdout",
     "output_type": "stream",
     "text": [
      "Epoch 1/5\n",
      "500/500 [==============================] - 29s 54ms/step - loss: 9.8724e-08 - accuracy: 0.7845 - val_loss: 9.0265e-08 - val_accuracy: 0.8040\n",
      "Epoch 2/5\n",
      "500/500 [==============================] - 26s 52ms/step - loss: 9.4735e-08 - accuracy: 0.7921 - val_loss: 9.0265e-08 - val_accuracy: 0.8040\n",
      "Epoch 3/5\n",
      "500/500 [==============================] - 26s 52ms/step - loss: 9.3409e-08 - accuracy: 0.7936 - val_loss: 9.0265e-08 - val_accuracy: 0.8040\n",
      "Epoch 4/5\n",
      "500/500 [==============================] - 26s 53ms/step - loss: 9.9307e-08 - accuracy: 0.7846 - val_loss: 9.0265e-08 - val_accuracy: 0.8040\n",
      "Epoch 5/5\n",
      "500/500 [==============================] - 26s 52ms/step - loss: 9.3938e-08 - accuracy: 0.7975 - val_loss: 9.0265e-08 - val_accuracy: 0.8040\n"
     ]
    }
   ],
   "source": [
    "history=model.fit(X_train, y_train, validation_data=(X_test, y_test),epochs=5, batch_size=5, verbose=1, steps_per_epoch=500, validation_steps=500)"
   ]
  },
  {
   "cell_type": "code",
   "execution_count": 40,
   "metadata": {},
   "outputs": [
    {
     "data": {
      "image/png": "[encoded data removed]",
      "text/plain": [
       "<Figure size 432x288 with 1 Axes>"
      ]
     },
     "metadata": {
      "needs_background": "light"
     },
     "output_type": "display_data"
    },
    {
     "data": {
      "image/png": "[encoded data removed]",
      "text/plain": [
       "<Figure size 432x288 with 1 Axes>"
      ]
     },
     "metadata": {
      "needs_background": "light"
     },
     "output_type": "display_data"
    },
    {
     "name": "stdout",
     "output_type": "stream",
     "text": [
      "3088/3088 [==============================] - 32s 10ms/step\n"
     ]
    }
   ],
   "source": [
    "# Plot training & validation loss values\n",
    "plt.plot(history.history['loss'])\n",
    "plt.plot(history.history['val_loss'])\n",
    "plt.title('Model loss')\n",
    "plt.ylabel('Loss')\n",
    "plt.xlabel('Epoch')\n",
    "plt.legend(['Train', 'Validation'], loc='upper left')\n",
    "plt.savefig('loss.png', format='png', dpi=1200)\n",
    "plt.show()\n",
    "\n",
    "\n",
    "# Plot training & validation accuracy values\n",
    "plt.plot(history.history['accuracy'])\n",
    "plt.plot(history.history['val_accuracy'])\n",
    "plt.title('Model accuracy')\n",
    "plt.ylabel('Accuracy')\n",
    "plt.xlabel('Epoch')\n",
    "plt.legend(['Train', 'Validation'], loc='upper left')\n",
    "plt.savefig('accuracy.png', format='png', dpi=1200)\n",
    "plt.show()\n",
    "\n",
    "y_pred = model.predict(X_test, verbose=1)\n",
    "y_pred = np.argmax(y_pred,axis=1)\n",
    "\n",
    "\n",
    "#y_prob = cnnmodel.predict_proba(X_test)[:, 1]\n",
    "\n",
    "rnn_acc = accuracy_score(y_pred, y_test)\n",
    "rnn_prec = precision_score(y_pred, y_test,average='weighted')\n",
    "rnn_rec = recall_score(y_pred, y_test,average='weighted')\n",
    "rnn_f1 = f1_score(y_pred, y_test,average='weighted')"
   ]
  },
  {
   "cell_type": "code",
   "execution_count": 101,
   "metadata": {},
   "outputs": [],
   "source": [
    "storeResults('RNN',rnn_acc,rnn_prec,rnn_rec,rnn_f1)"
   ]
  },
  {
   "cell_type": "markdown",
   "metadata": {},
   "source": [
    "# GRU"
   ]
  },
  {
   "cell_type": "code",
   "execution_count": 41,
   "metadata": {},
   "outputs": [
    {
     "name": "stdout",
     "output_type": "stream",
     "text": [
      "WARNING:tensorflow:Layer gru will not use cuDNN kernels since it doesn't meet the criteria. It will use a generic GPU kernel as fallback when running on GPU.\n",
      "WARNING:tensorflow:Layer gru_1 will not use cuDNN kernels since it doesn't meet the criteria. It will use a generic GPU kernel as fallback when running on GPU.\n",
      "WARNING:tensorflow:Layer gru_2 will not use cuDNN kernels since it doesn't meet the criteria. It will use a generic GPU kernel as fallback when running on GPU.\n",
      "WARNING:tensorflow:Layer gru_3 will not use cuDNN kernels since it doesn't meet the criteria. It will use a generic GPU kernel as fallback when running on GPU.\n"
     ]
    }
   ],
   "source": [
    "from keras.models import Sequential\n",
    "from keras.layers import Dense, GRU\n",
    "from keras.layers import Dropout\n",
    "from keras import regularizers\n",
    "import tensorflow as tf\n",
    "\n",
    "# define a function to build the keras model\n",
    "def create_model(input_shape):\n",
    "    # create model\n",
    "    d = 0.25\n",
    "    model = Sequential()\n",
    "    \n",
    "    model.add(GRU(32, input_shape=input_shape, activation='relu', return_sequences=True))\n",
    "    model.add(Dropout(d))\n",
    "\n",
    "    model.add(GRU(64, input_shape=input_shape, activation='relu', return_sequences=True))\n",
    "    model.add(Dropout(d))\n",
    "        \n",
    "    model.add(GRU(128, input_shape=input_shape, activation='relu', return_sequences=True))\n",
    "    model.add(Dropout(d))\n",
    "\n",
    "    model.add(GRU(256, input_shape=input_shape, activation='relu', return_sequences=False))\n",
    "    model.add(Dropout(d))\n",
    "   \n",
    "    model.add(Dense(32,kernel_initializer=\"uniform\",activation='relu'))        \n",
    "    model.add(Dense(1,kernel_initializer=\"uniform\",activation='linear'))\n",
    "    \n",
    "    # compile model\n",
    "    adam = tf.keras.optimizers.Adam(learning_rate=0.001, decay=0.00001)\n",
    "    #model.compile(loss='mse', optimizer='adam', metrics=['accuracy'])\n",
    "    model.compile(loss='categorical_crossentropy', optimizer='adam', metrics=['accuracy'])\n",
    "    #model.compile(loss='binary_crossentropy', optimizer='adam', metrics=['accuracy'])\n",
    "    return model\n",
    "\n",
    "model = create_model(input_shape=(14,1))\n",
    "#print(model.summary())"
   ]
  },
  {
   "cell_type": "code",
   "execution_count": 42,
   "metadata": {},
   "outputs": [
    {
     "name": "stdout",
     "output_type": "stream",
     "text": [
      "Epoch 1/5\n",
      "500/500 [==============================] - 79s 152ms/step - loss: 9.2972e-08 - accuracy: 0.7970 - val_loss: 9.0265e-08 - val_accuracy: 0.8040\n",
      "Epoch 2/5\n",
      "500/500 [==============================] - 75s 150ms/step - loss: 9.7049e-08 - accuracy: 0.7893 - val_loss: 9.0265e-08 - val_accuracy: 0.8040\n",
      "Epoch 3/5\n",
      "500/500 [==============================] - 76s 152ms/step - loss: 1.0125e-07 - accuracy: 0.7820 - val_loss: 9.0265e-08 - val_accuracy: 0.8040\n",
      "Epoch 4/5\n",
      "500/500 [==============================] - 75s 150ms/step - loss: 8.9159e-08 - accuracy: 0.8025 - val_loss: 9.0265e-08 - val_accuracy: 0.8040\n",
      "Epoch 5/5\n",
      "500/500 [==============================] - 75s 151ms/step - loss: 9.8886e-08 - accuracy: 0.7862 - val_loss: 9.0265e-08 - val_accuracy: 0.8040\n"
     ]
    }
   ],
   "source": [
    "history=model.fit(X_train, y_train, validation_data=(X_test, y_test),epochs=5, batch_size=5, verbose=1, steps_per_epoch=500, validation_steps=500)"
   ]
  },
  {
   "cell_type": "code",
   "execution_count": 43,
   "metadata": {},
   "outputs": [
    {
     "data": {
      "image/png": "[encoded data removed]",
      "text/plain": [
       "<Figure size 432x288 with 1 Axes>"
      ]
     },
     "metadata": {
      "needs_background": "light"
     },
     "output_type": "display_data"
    },
    {
     "data": {
      "image/png": "[encoded data removed]",
      "text/plain": [
       "<Figure size 432x288 with 1 Axes>"
      ]
     },
     "metadata": {
      "needs_background": "light"
     },
     "output_type": "display_data"
    },
    {
     "name": "stdout",
     "output_type": "stream",
     "text": [
      "3088/3088 [==============================] - 97s 31ms/step\n"
     ]
    }
   ],
   "source": [
    "# Plot training & validation loss values\n",
    "plt.plot(history.history['loss'])\n",
    "plt.plot(history.history['val_loss'])\n",
    "plt.title('Model loss')\n",
    "plt.ylabel('Loss')\n",
    "plt.xlabel('Epoch')\n",
    "plt.legend(['Train', 'Validation'], loc='upper left')\n",
    "plt.savefig('loss.png', format='png', dpi=1200)\n",
    "plt.show()\n",
    "\n",
    "\n",
    "# Plot training & validation accuracy values\n",
    "plt.plot(history.history['accuracy'])\n",
    "plt.plot(history.history['val_accuracy'])\n",
    "plt.title('Model accuracy')\n",
    "plt.ylabel('Accuracy')\n",
    "plt.xlabel('Epoch')\n",
    "plt.legend(['Train', 'Validation'], loc='upper left')\n",
    "plt.savefig('accuracy.png', format='png', dpi=1200)\n",
    "plt.show()\n",
    "\n",
    "y_pred = model.predict(X_test, verbose=1)\n",
    "y_pred = np.argmax(y_pred,axis=1)\n",
    "\n",
    "\n",
    "#y_prob = cnnmodel.predict_proba(X_test)[:, 1]\n",
    "\n",
    "gru_acc = accuracy_score(y_pred, y_test)\n",
    "gru_prec = precision_score(y_pred, y_test,average='weighted')\n",
    "gru_rec = recall_score(y_pred, y_test,average='weighted')\n",
    "gru_f1 = f1_score(y_pred, y_test,average='weighted')"
   ]
  },
  {
   "cell_type": "code",
   "execution_count": 102,
   "metadata": {},
   "outputs": [],
   "source": [
    "storeResults('GRU',gru_acc,gru_prec,gru_rec,gru_f1)"
   ]
  },
  {
   "cell_type": "markdown",
   "metadata": {},
   "source": [
    "# LSTM + GRU + RNN"
   ]
  },
  {
   "cell_type": "code",
   "execution_count": 44,
   "metadata": {},
   "outputs": [
    {
     "name": "stdout",
     "output_type": "stream",
     "text": [
      "WARNING:tensorflow:Layer lstm_4 will not use cuDNN kernels since it doesn't meet the criteria. It will use a generic GPU kernel as fallback when running on GPU.\n",
      "WARNING:tensorflow:Layer gru_4 will not use cuDNN kernels since it doesn't meet the criteria. It will use a generic GPU kernel as fallback when running on GPU.\n",
      "WARNING:tensorflow:Layer gru_5 will not use cuDNN kernels since it doesn't meet the criteria. It will use a generic GPU kernel as fallback when running on GPU.\n"
     ]
    }
   ],
   "source": [
    "from keras.models import Sequential\n",
    "from keras.layers import Dense, GRU, LSTM, SimpleRNN\n",
    "from keras.layers import Dropout\n",
    "from keras import regularizers\n",
    "import tensorflow as tf\n",
    "\n",
    "# define a function to build the keras model\n",
    "def create_model(input_shape):\n",
    "    # create model\n",
    "    d = 0.25\n",
    "    model = Sequential()\n",
    "    \n",
    "    model.add(LSTM(32, input_shape=input_shape, activation='relu', return_sequences=True))\n",
    "    model.add(Dropout(d))\n",
    "\n",
    "    model.add(GRU(64, input_shape=input_shape, activation='relu', return_sequences=True))\n",
    "    model.add(Dropout(d))\n",
    "        \n",
    "    model.add(SimpleRNN(128, input_shape=input_shape, activation='relu', return_sequences=True))\n",
    "    model.add(Dropout(d))\n",
    "\n",
    "    model.add(GRU(256, input_shape=input_shape, activation='relu', return_sequences=False))\n",
    "    model.add(Dropout(d))\n",
    "   \n",
    "    model.add(Dense(32,kernel_initializer=\"uniform\",activation='relu'))        \n",
    "    model.add(Dense(1,kernel_initializer=\"uniform\",activation='linear'))\n",
    "    \n",
    "    # compile model\n",
    "    adam = tf.keras.optimizers.Adam(learning_rate=0.001, decay=0.00001)\n",
    "    #model.compile(loss='mse', optimizer='adam', metrics=['accuracy'])\n",
    "    model.compile(loss='categorical_crossentropy', optimizer='adam', metrics=['accuracy'])\n",
    "    #model.compile(loss='binary_crossentropy', optimizer='adam', metrics=['accuracy'])\n",
    "    return model\n",
    "\n",
    "model1 = create_model(input_shape=(14,1))\n",
    "#print(model.summary())"
   ]
  },
  {
   "cell_type": "code",
   "execution_count": 53,
   "metadata": {},
   "outputs": [
    {
     "name": "stdout",
     "output_type": "stream",
     "text": [
      "Epoch 1/5\n",
      "5000/5000 [==============================] - 490s 98ms/step - loss: 9.6381e-08 - accuracy: 0.7910 - val_loss: 9.7668e-08 - val_accuracy: 0.7879\n",
      "Epoch 2/5\n",
      "5000/5000 [==============================] - 489s 98ms/step - loss: 9.7036e-08 - accuracy: 0.7888 - val_loss: 9.7668e-08 - val_accuracy: 0.7879\n",
      "Epoch 3/5\n",
      "5000/5000 [==============================] - 491s 98ms/step - loss: 9.4485e-08 - accuracy: 0.7946 - val_loss: 9.7668e-08 - val_accuracy: 0.7879\n",
      "Epoch 4/5\n",
      "5000/5000 [==============================] - 490s 98ms/step - loss: 9.4152e-08 - accuracy: 0.7943 - val_loss: 9.7668e-08 - val_accuracy: 0.7879\n",
      "Epoch 5/5\n",
      "5000/5000 [==============================] - 490s 98ms/step - loss: 9.8395e-08 - accuracy: 0.7877 - val_loss: 9.7668e-08 - val_accuracy: 0.7879\n"
     ]
    }
   ],
   "source": [
    "history=model1.fit(X_train, y_train, validation_data=(X_test, y_test),epochs=5, batch_size=2, verbose=1, steps_per_epoch=5000, validation_steps=5000)"
   ]
  },
  {
   "cell_type": "code",
   "execution_count": 54,
   "metadata": {},
   "outputs": [
    {
     "data": {
      "image/png": "[encoded data removed]",
      "text/plain": [
       "<Figure size 432x288 with 1 Axes>"
      ]
     },
     "metadata": {
      "needs_background": "light"
     },
     "output_type": "display_data"
    },
    {
     "data": {
      "image/png": "[encoded data removed]",
      "text/plain": [
       "<Figure size 432x288 with 1 Axes>"
      ]
     },
     "metadata": {
      "needs_background": "light"
     },
     "output_type": "display_data"
    },
    {
     "name": "stdout",
     "output_type": "stream",
     "text": [
      "3088/3088 [==============================] - 79s 26ms/step\n"
     ]
    }
   ],
   "source": [
    "# Plot training & validation loss values\n",
    "plt.plot(history.history['loss'])\n",
    "plt.plot(history.history['val_loss'])\n",
    "plt.title('Model loss')\n",
    "plt.ylabel('Loss')\n",
    "plt.xlabel('Epoch')\n",
    "plt.legend(['Train', 'Validation'], loc='upper left')\n",
    "plt.savefig('loss.png', format='png', dpi=1200)\n",
    "plt.show()\n",
    "\n",
    "\n",
    "# Plot training & validation accuracy values\n",
    "plt.plot(history.history['accuracy'])\n",
    "plt.plot(history.history['val_accuracy'])\n",
    "plt.title('Model accuracy')\n",
    "plt.ylabel('Accuracy')\n",
    "plt.xlabel('Epoch')\n",
    "plt.legend(['Train', 'Validation'], loc='upper left')\n",
    "plt.savefig('accuracy.png', format='png', dpi=1200)\n",
    "plt.show()\n",
    "\n",
    "y_pred = model1.predict(X_test, verbose=1)\n",
    "y_pred = np.argmax(y_pred,axis=1)\n",
    "\n",
    "\n",
    "#y_prob = cnnmodel.predict_proba(X_test)[:, 1]\n",
    "\n",
    "ense_acc = accuracy_score(y_pred, y_test)\n",
    "ense_prec = precision_score(y_pred, y_test,average='weighted')\n",
    "ense_rec = recall_score(y_pred, y_test,average='weighted')\n",
    "ense_f1 = f1_score(y_pred, y_test,average='weighted')"
   ]
  },
  {
   "cell_type": "code",
   "execution_count": 108,
   "metadata": {},
   "outputs": [],
   "source": [
    "storeResults('LSTM+RNN+GRU',ense_acc,ense_prec,ense_rec,ense_f1)"
   ]
  },
  {
   "cell_type": "markdown",
   "metadata": {},
   "source": [
    "# CNN + BiLSTM"
   ]
  },
  {
   "cell_type": "code",
   "execution_count": 55,
   "metadata": {},
   "outputs": [
    {
     "name": "stdout",
     "output_type": "stream",
     "text": [
      "Model: \"sequential\"\n",
      "_________________________________________________________________\n",
      "Layer (type)                 Output Shape              Param #   \n",
      "=================================================================\n",
      "conv1d (Conv1D)              (None, 14, 128)           768       \n",
      "_________________________________________________________________\n",
      "max_pooling1d (MaxPooling1D) (None, 13, 128)           0         \n",
      "_________________________________________________________________\n",
      "conv1d_1 (Conv1D)            (None, 13, 64)            24640     \n",
      "_________________________________________________________________\n",
      "max_pooling1d_1 (MaxPooling1 (None, 12, 64)            0         \n",
      "_________________________________________________________________\n",
      "conv1d_2 (Conv1D)            (None, 12, 32)            6176      \n",
      "_________________________________________________________________\n",
      "max_pooling1d_2 (MaxPooling1 (None, 11, 32)            0         \n",
      "_________________________________________________________________\n",
      "bidirectional (Bidirectional (None, 11, 256)           164864    \n",
      "_________________________________________________________________\n",
      "flatten (Flatten)            (None, 2816)              0         \n",
      "_________________________________________________________________\n",
      "dense (Dense)                (None, 128)               360576    \n",
      "_________________________________________________________________\n",
      "dropout (Dropout)            (None, 128)               0         \n",
      "_________________________________________________________________\n",
      "dense_1 (Dense)              (None, 32)                4128      \n",
      "_________________________________________________________________\n",
      "dropout_1 (Dropout)          (None, 32)                0         \n",
      "_________________________________________________________________\n",
      "dense_2 (Dense)              (None, 5)                 165       \n",
      "=================================================================\n",
      "Total params: 561,317\n",
      "Trainable params: 561,317\n",
      "Non-trainable params: 0\n",
      "_________________________________________________________________\n"
     ]
    }
   ],
   "source": [
    "import tensorflow as tf\n",
    "tf.keras.backend.clear_session()\n",
    "\n",
    "model2 = tf.keras.models.Sequential([tf.keras.layers.Conv1D(filters=128,kernel_size=5,strides=1,padding=\"causal\",activation=\"relu\",input_shape=(X_train.shape[1],X_train.shape[2])),\n",
    "    tf.keras.layers.MaxPooling1D(pool_size=2, strides=1, padding=\"valid\"),\n",
    "    tf.keras.layers.Conv1D(filters=64, kernel_size=3, strides=1, padding=\"causal\", activation=\"relu\"),\n",
    "    tf.keras.layers.MaxPooling1D(pool_size=2, strides=1, padding=\"valid\"),\n",
    "    tf.keras.layers.Conv1D(filters=32, kernel_size=3, strides=1, padding=\"causal\", activation=\"relu\"),\n",
    "    tf.keras.layers.MaxPooling1D(pool_size=2, strides=1, padding=\"valid\"),\n",
    "    tf.keras.layers.Bidirectional(tf.keras.layers.LSTM(128, return_sequences=True)),\n",
    "    tf.keras.layers.Flatten(),\n",
    "    tf.keras.layers.Dense(128, activation=\"relu\"),\n",
    "    tf.keras.layers.Dropout(0.2),\n",
    "    tf.keras.layers.Dense(32, activation=\"relu\"),\n",
    "    tf.keras.layers.Dropout(0.1),\n",
    "    tf.keras.layers.Dense(5)\n",
    "])\n",
    "\n",
    "lr_schedule = tf.keras.optimizers.schedules.ExponentialDecay(5e-4,\n",
    "                                                             decay_steps=1000000,\n",
    "                                                             decay_rate=0.98,\n",
    "                                                             staircase=False)\n",
    "\n",
    "model2.compile(loss=tf.keras.losses.MeanSquaredError(),\n",
    "              optimizer=tf.keras.optimizers.SGD(learning_rate=lr_schedule, momentum=0.8),\n",
    "              metrics=['acc'])\n",
    "model2.summary()"
   ]
  },
  {
   "cell_type": "code",
   "execution_count": 57,
   "metadata": {},
   "outputs": [
    {
     "name": "stdout",
     "output_type": "stream",
     "text": [
      "Epoch 1/5\n",
      "79043/79043 [==============================] - 771s 10ms/step - loss: 0.0067 - acc: 0.9850 - val_loss: 0.0046 - val_acc: 0.9858\n",
      "Epoch 2/5\n",
      "79043/79043 [==============================] - 769s 10ms/step - loss: 0.0060 - acc: 0.9876 - val_loss: 0.0039 - val_acc: 0.9888\n",
      "Epoch 3/5\n",
      "79043/79043 [==============================] - 774s 10ms/step - loss: 0.0055 - acc: 0.9888 - val_loss: 0.0038 - val_acc: 0.9888\n",
      "Epoch 4/5\n",
      "79043/79043 [==============================] - 772s 10ms/step - loss: 0.0052 - acc: 0.9892 - val_loss: 0.0037 - val_acc: 0.9895\n",
      "Epoch 5/5\n",
      "79043/79043 [==============================] - 771s 10ms/step - loss: 0.0049 - acc: 0.9896 - val_loss: 0.0035 - val_acc: 0.9897\n"
     ]
    }
   ],
   "source": [
    "modelhistory = model2.fit(X_train, Y_train, epochs=5, verbose=verbose, validation_split=0.2, batch_size = batch_size)"
   ]
  },
  {
   "cell_type": "code",
   "execution_count": 58,
   "metadata": {},
   "outputs": [
    {
     "data": {
      "image/png": "[encoded data removed]",
      "text/plain": [
       "<Figure size 432x288 with 1 Axes>"
      ]
     },
     "metadata": {
      "needs_background": "light"
     },
     "output_type": "display_data"
    },
    {
     "data": {
      "image/png": "[encoded data removed]",
      "text/plain": [
       "<Figure size 432x288 with 1 Axes>"
      ]
     },
     "metadata": {
      "needs_background": "light"
     },
     "output_type": "display_data"
    }
   ],
   "source": [
    "# Plot of accuracy vs epoch for train and test dataset\n",
    "plt.plot(modelhistory.history['acc'])\n",
    "plt.plot(modelhistory.history['val_acc'])\n",
    "plt.title(\"Plot of accuracy vs epoch for train and test dataset\")\n",
    "plt.ylabel('accuracy')\n",
    "plt.xlabel('epoch')\n",
    "plt.show()\n",
    "\n",
    "# Plot of loss vs epoch for train and test dataset\n",
    "plt.plot(modelhistory.history['loss'])\n",
    "plt.plot(modelhistory.history['val_loss'])\n",
    "plt.title(\"Plot of loss vs epoch for train and test dataset\")\n",
    "plt.ylabel('loss')\n",
    "plt.xlabel('epoch')\n",
    "plt.legend(['train', 'test'], loc='upper right')\n",
    "plt.show()"
   ]
  },
  {
   "cell_type": "code",
   "execution_count": 59,
   "metadata": {},
   "outputs": [
    {
     "name": "stdout",
     "output_type": "stream",
     "text": [
      "3088/3088 [==============================] - 11s 3ms/step\n"
     ]
    }
   ],
   "source": [
    "y_pred = model2.predict(X_test, verbose=1)\n",
    "y_pred = np.argmax(y_pred,axis=1)\n",
    "\n",
    "\n",
    "#y_prob = cnnmodel.predict_proba(X_test)[:, 1]\n",
    "\n",
    "ense_acc = accuracy_score(y_pred, y_test)\n",
    "ense_prec = precision_score(y_pred, y_test,average='weighted')\n",
    "ense_rec = recall_score(y_pred, y_test,average='weighted')\n",
    "ense_f1 = f1_score(y_pred, y_test,average='weighted')"
   ]
  },
  {
   "cell_type": "code",
   "execution_count": 123,
   "metadata": {},
   "outputs": [],
   "source": [
    "storeResults('CNN+BiLSTM',ense_acc,ense_prec,ense_rec,ense_f1)"
   ]
  },
  {
   "cell_type": "markdown",
   "metadata": {},
   "source": [
    "# Machine Learning"
   ]
  },
  {
   "cell_type": "code",
   "execution_count": 64,
   "metadata": {},
   "outputs": [],
   "source": [
    "# splitting the dataset 80% for training and 20% testing\n",
    "X_train, X_test, y_train, y_test = train_test_split(X_reduced,y, test_size=0.20, random_state=42)"
   ]
  },
  {
   "cell_type": "markdown",
   "metadata": {},
   "source": [
    "# Decision Tree"
   ]
  },
  {
   "cell_type": "code",
   "execution_count": 65,
   "metadata": {},
   "outputs": [],
   "source": [
    "from sklearn.tree import DecisionTreeClassifier\n",
    "\n",
    "# instantiate the model \n",
    "tree = DecisionTreeClassifier(max_depth=5,splitter='best',min_samples_split=2,criterion='entropy',random_state=500)\n",
    "\n",
    "# fit the model \n",
    "tree.fit(X_train, y_train)\n",
    "\n",
    "#predicting the target value from the model for the samples\n",
    "\n",
    "y_pred = tree.predict(X_test)\n",
    "\n",
    "dt_acc = accuracy_score(y_pred, y_test)\n",
    "dt_prec = precision_score(y_pred, y_test,average='weighted')\n",
    "dt_rec = recall_score(y_pred, y_test,average='weighted')\n",
    "dt_f1 = f1_score(y_pred, y_test,average='weighted')"
   ]
  },
  {
   "cell_type": "code",
   "execution_count": 109,
   "metadata": {},
   "outputs": [],
   "source": [
    "storeResults('Decision Tree',dt_acc,dt_prec,dt_rec,dt_f1)"
   ]
  },
  {
   "cell_type": "code",
   "execution_count": 91,
   "metadata": {},
   "outputs": [
    {
     "name": "stdout",
     "output_type": "stream",
     "text": [
      "Mean Score: 0.9959500000000002\n"
     ]
    }
   ],
   "source": [
    "from sklearn.model_selection import KFold   \n",
    "from sklearn.model_selection import cross_val_score\n",
    "\n",
    "k_fold = KFold(n_splits = 10, random_state = None)\n",
    "score = cross_val_score(tree, X_train, y_train, cv = k_fold)\n",
    "\n",
    "mean_dt = sum(score) / len(score)\n",
    "print('Mean Score:', mean_dt)"
   ]
  },
  {
   "cell_type": "markdown",
   "metadata": {},
   "source": [
    "# Logistic Regression"
   ]
  },
  {
   "cell_type": "code",
   "execution_count": 67,
   "metadata": {},
   "outputs": [],
   "source": [
    "# Logistic Regression model \n",
    "from sklearn.linear_model import LogisticRegression\n",
    "#from sklearn.pipeline import Pipeline\n",
    "\n",
    "# instantiate the model\n",
    "log = LogisticRegression(random_state=10,solver='lbfgs',max_iter=50,multi_class='auto',C=1.0)\n",
    "\n",
    "log.fit(X_train,y_train)\n",
    "\n",
    "y_pred = log.predict(X_test)\n",
    "\n",
    "lr_acc = accuracy_score(y_pred, y_test)\n",
    "lr_prec = precision_score(y_pred, y_test,average='weighted')\n",
    "lr_rec = recall_score(y_pred, y_test,average='weighted')\n",
    "lr_f1 = f1_score(y_pred, y_test,average='weighted')"
   ]
  },
  {
   "cell_type": "code",
   "execution_count": 110,
   "metadata": {},
   "outputs": [],
   "source": [
    "storeResults('Logistic Regression',lr_acc,lr_prec,lr_rec,lr_f1)"
   ]
  },
  {
   "cell_type": "code",
   "execution_count": 92,
   "metadata": {},
   "outputs": [
    {
     "name": "stdout",
     "output_type": "stream",
     "text": [
      "Mean Score: 0.9722\n"
     ]
    }
   ],
   "source": [
    "from sklearn.model_selection import KFold   \n",
    "from sklearn.model_selection import cross_val_score\n",
    "\n",
    "k_fold = KFold(n_splits = 10, random_state = None)\n",
    "score = cross_val_score(log, X_train, y_train, cv = k_fold)\n",
    "\n",
    "mean_lr = sum(score) / len(score)\n",
    "\n",
    "print('Mean Score:', mean_lr)"
   ]
  },
  {
   "cell_type": "markdown",
   "metadata": {},
   "source": [
    "# SVM"
   ]
  },
  {
   "cell_type": "code",
   "execution_count": 69,
   "metadata": {},
   "outputs": [],
   "source": [
    "from sklearn.svm import SVC\n",
    "\n",
    "# instantiate the model \n",
    "svm = SVC(random_state=50,max_iter=50, tol=1e-4)\n",
    "\n",
    "# fit the model \n",
    "svm.fit(X_train, y_train)\n",
    "\n",
    "#predicting the target value from the model for the samples\n",
    "\n",
    "y_pred = svm.predict(X_test)\n",
    "\n",
    "svc_acc = accuracy_score(y_pred, y_test)\n",
    "svc_prec = precision_score(y_pred, y_test,average='weighted')\n",
    "svc_rec = recall_score(y_pred, y_test,average='weighted')\n",
    "svc_f1 = f1_score(y_pred, y_test,average='weighted')"
   ]
  },
  {
   "cell_type": "code",
   "execution_count": 111,
   "metadata": {},
   "outputs": [],
   "source": [
    "storeResults('Support Vector Machine',svc_acc,svc_prec,svc_rec,svc_f1)"
   ]
  },
  {
   "cell_type": "code",
   "execution_count": 93,
   "metadata": {},
   "outputs": [
    {
     "name": "stdout",
     "output_type": "stream",
     "text": [
      "Mean Score: 0.9468250000000001\n"
     ]
    }
   ],
   "source": [
    "k_fold = KFold(n_splits = 10, random_state = None)\n",
    "score = cross_val_score(svm, X_train, y_train, cv = k_fold)\n",
    "\n",
    "mean_svm = sum(score) / len(score)\n",
    "\n",
    "print('Mean Score:', mean_svm)"
   ]
  },
  {
   "cell_type": "markdown",
   "metadata": {},
   "source": [
    "# Naive Bayes"
   ]
  },
  {
   "cell_type": "code",
   "execution_count": 71,
   "metadata": {},
   "outputs": [],
   "source": [
    "# Naive Bayes Classifier Model\n",
    "from sklearn.naive_bayes import GaussianNB\n",
    "\n",
    "# instantiate the model\n",
    "nb=  GaussianNB(var_smoothing=1e-9)\n",
    "\n",
    "# fit the model \n",
    "nb.fit(X_train,y_train)\n",
    "\n",
    "y_pred = nb.predict(X_test)\n",
    "\n",
    "nb_acc = accuracy_score(y_pred, y_test)\n",
    "nb_prec = precision_score(y_pred, y_test,average='weighted')\n",
    "nb_rec = recall_score(y_pred, y_test,average='weighted')\n",
    "nb_f1 = f1_score(y_pred, y_test,average='weighted')"
   ]
  },
  {
   "cell_type": "code",
   "execution_count": 112,
   "metadata": {},
   "outputs": [],
   "source": [
    "storeResults('Naive Bayes',nb_acc,nb_prec,nb_rec,nb_f1)"
   ]
  },
  {
   "cell_type": "code",
   "execution_count": 94,
   "metadata": {},
   "outputs": [
    {
     "name": "stdout",
     "output_type": "stream",
     "text": [
      "Mean Score: 0.897025\n"
     ]
    }
   ],
   "source": [
    "k_fold = KFold(n_splits = 10, random_state = None)\n",
    "score = cross_val_score(nb, X_train, y_train, cv = k_fold)\n",
    "\n",
    "mean_nb = sum(score) / len(score)\n",
    "\n",
    "print('Mean Score:', mean_nb)"
   ]
  },
  {
   "cell_type": "markdown",
   "metadata": {},
   "source": [
    "# Random Forest"
   ]
  },
  {
   "cell_type": "code",
   "execution_count": 73,
   "metadata": {},
   "outputs": [],
   "source": [
    "from sklearn.ensemble import RandomForestClassifier\n",
    "\n",
    "# instantiate the model \n",
    "rf = RandomForestClassifier(n_estimators = 20, criterion = 'entropy', max_depth=5,  max_features='sqrt',\n",
    "                           bootstrap = True, random_state = 100, max_samples = None)\n",
    "\n",
    "rf.fit(X_train, y_train)\n",
    "\n",
    "y_pred = rf.predict(X_test)\n",
    "\n",
    "rf_acc = accuracy_score(y_pred, y_test)\n",
    "rf_prec = precision_score(y_pred, y_test,average='weighted')\n",
    "rf_rec = recall_score(y_pred, y_test,average='weighted')\n",
    "rf_f1 = f1_score(y_pred, y_test,average='weighted')"
   ]
  },
  {
   "cell_type": "code",
   "execution_count": 113,
   "metadata": {},
   "outputs": [],
   "source": [
    "storeResults('Random Forest',rf_acc,rf_prec,rf_rec,rf_f1)"
   ]
  },
  {
   "cell_type": "code",
   "execution_count": 95,
   "metadata": {},
   "outputs": [
    {
     "name": "stdout",
     "output_type": "stream",
     "text": [
      "Mean Score: 0.9978250000000001\n"
     ]
    }
   ],
   "source": [
    "k_fold = KFold(n_splits = 10, random_state = None)\n",
    "score = cross_val_score(rf, X_train, y_train, cv = k_fold)\n",
    "\n",
    "mean_rf = sum(score) / len(score)\n",
    "\n",
    "print('Mean Score:', mean_rf)"
   ]
  },
  {
   "cell_type": "markdown",
   "metadata": {},
   "source": [
    "# DT + RF + SVM"
   ]
  },
  {
   "cell_type": "code",
   "execution_count": 90,
   "metadata": {},
   "outputs": [],
   "source": [
    "from sklearn.ensemble import VotingClassifier\n",
    "\n",
    "svm = SVC(random_state=50,max_iter=50, tol=1e-4,probability=True)\n",
    "\n",
    "eclf1 = VotingClassifier(estimators=[('rf', rf), ('dt', tree), ('svm', svm)], voting='soft')\n",
    "eclf1.fit(X_train, y_train)\n",
    "\n",
    "y_pred = eclf1.predict(X_test)\n",
    "\n",
    "vot_acc = accuracy_score(y_pred, y_test)\n",
    "vot_prec = precision_score(y_pred, y_test, average='weighted')\n",
    "vot_rec = recall_score(y_pred, y_test, average='weighted')\n",
    "vot_f1 = f1_score(y_pred, y_test, average='weighted')"
   ]
  },
  {
   "cell_type": "code",
   "execution_count": 114,
   "metadata": {},
   "outputs": [],
   "source": [
    "storeResults('Voting Classifier',vot_acc,vot_prec,vot_rec,vot_f1)"
   ]
  },
  {
   "cell_type": "code",
   "execution_count": 96,
   "metadata": {},
   "outputs": [
    {
     "name": "stdout",
     "output_type": "stream",
     "text": [
      "Mean Score: 0.9978250000000001\n"
     ]
    }
   ],
   "source": [
    "k_fold = KFold(n_splits = 10, random_state = None)\n",
    "score = cross_val_score(rf, X_train, y_train, cv = k_fold)\n",
    "\n",
    "mean_vot = sum(score) / len(score)\n",
    "\n",
    "print('Mean Score:', mean_vot)"
   ]
  },
  {
   "cell_type": "markdown",
   "metadata": {},
   "source": [
    "# Stacking Classifier"
   ]
  },
  {
   "cell_type": "code",
   "execution_count": 86,
   "metadata": {},
   "outputs": [],
   "source": [
    "from sklearn.ensemble import StackingClassifier, ExtraTreesClassifier\n",
    "\n",
    "estimators = [('rf', rf),('dt', tree)]\n",
    "\n",
    "clf = StackingClassifier(estimators=estimators, final_estimator=ExtraTreesClassifier())\n",
    "\n",
    "clf.fit(X_train, y_train)\n",
    "\n",
    "y_pred = clf.predict(X_test)\n",
    "\n",
    "stac_acc = accuracy_score(y_pred, y_test)\n",
    "stac_prec = precision_score(y_pred, y_test,average='weighted')\n",
    "stac_rec = recall_score(y_pred, y_test,average='weighted')\n",
    "stac_f1 = f1_score(y_pred, y_test,average='weighted')"
   ]
  },
  {
   "cell_type": "code",
   "execution_count": 124,
   "metadata": {},
   "outputs": [],
   "source": [
    "storeResults('Stacking Classifier',stac_acc,stac_prec,stac_rec,stac_f1)"
   ]
  },
  {
   "cell_type": "code",
   "execution_count": 97,
   "metadata": {},
   "outputs": [
    {
     "name": "stdout",
     "output_type": "stream",
     "text": [
      "Mean Score: 1\n"
     ]
    }
   ],
   "source": [
    "k_fold = KFold(n_splits = 10, random_state = None)\n",
    "score = cross_val_score(clf, X_train, y_train, cv = k_fold)\n",
    "\n",
    "mean_st = sum(score) / len(score)\n",
    "\n",
    "print('Mean Score:', mean_vot)"
   ]
  },
  {
   "cell_type": "markdown",
   "metadata": {},
   "source": [
    "# Comparison"
   ]
  },
  {
   "cell_type": "code",
   "execution_count": 125,
   "metadata": {},
   "outputs": [],
   "source": [
    "#creating dataframe\n",
    "result = pd.DataFrame({ 'ML Model' : ML_Model,\n",
    "                        'Accuracy' : accuracy,\n",
    "                        'Precision': precision,\n",
    "                        'Recall'   : recall,\n",
    "                        'F1-Score': f1score\n",
    "                      })"
   ]
  },
  {
   "cell_type": "code",
   "execution_count": 126,
   "metadata": {},
   "outputs": [
    {
     "data": {
      "text/html": [
       "<div>\n",
       "<style scoped>\n",
       "    .dataframe tbody tr th:only-of-type {\n",
       "        vertical-align: middle;\n",
       "    }\n",
       "\n",
       "    .dataframe tbody tr th {\n",
       "        vertical-align: top;\n",
       "    }\n",
       "\n",
       "    .dataframe thead th {\n",
       "        text-align: right;\n",
       "    }\n",
       "</style>\n",
       "<table border=\"1\" class=\"dataframe\">\n",
       "  <thead>\n",
       "    <tr style=\"text-align: right;\">\n",
       "      <th></th>\n",
       "      <th>ML Model</th>\n",
       "      <th>Accuracy</th>\n",
       "      <th>Precision</th>\n",
       "      <th>Recall</th>\n",
       "      <th>F1-Score</th>\n",
       "    </tr>\n",
       "  </thead>\n",
       "  <tbody>\n",
       "    <tr>\n",
       "      <th>0</th>\n",
       "      <td>CNN</td>\n",
       "      <td>0.996</td>\n",
       "      <td>0.996</td>\n",
       "      <td>0.996</td>\n",
       "      <td>0.996</td>\n",
       "    </tr>\n",
       "    <tr>\n",
       "      <th>1</th>\n",
       "      <td>LSTM</td>\n",
       "      <td>0.793</td>\n",
       "      <td>1.000</td>\n",
       "      <td>0.793</td>\n",
       "      <td>0.885</td>\n",
       "    </tr>\n",
       "    <tr>\n",
       "      <th>2</th>\n",
       "      <td>RNN</td>\n",
       "      <td>0.793</td>\n",
       "      <td>1.000</td>\n",
       "      <td>0.793</td>\n",
       "      <td>0.885</td>\n",
       "    </tr>\n",
       "    <tr>\n",
       "      <th>3</th>\n",
       "      <td>GRU</td>\n",
       "      <td>0.793</td>\n",
       "      <td>1.000</td>\n",
       "      <td>0.793</td>\n",
       "      <td>0.885</td>\n",
       "    </tr>\n",
       "    <tr>\n",
       "      <th>4</th>\n",
       "      <td>LSTM+RNN+GRU</td>\n",
       "      <td>0.890</td>\n",
       "      <td>0.993</td>\n",
       "      <td>0.990</td>\n",
       "      <td>0.991</td>\n",
       "    </tr>\n",
       "    <tr>\n",
       "      <th>5</th>\n",
       "      <td>Decision Tree</td>\n",
       "      <td>0.996</td>\n",
       "      <td>0.998</td>\n",
       "      <td>0.996</td>\n",
       "      <td>0.997</td>\n",
       "    </tr>\n",
       "    <tr>\n",
       "      <th>6</th>\n",
       "      <td>Logistic Regression</td>\n",
       "      <td>0.973</td>\n",
       "      <td>0.974</td>\n",
       "      <td>0.973</td>\n",
       "      <td>0.973</td>\n",
       "    </tr>\n",
       "    <tr>\n",
       "      <th>7</th>\n",
       "      <td>Support Vector Machine</td>\n",
       "      <td>0.950</td>\n",
       "      <td>0.951</td>\n",
       "      <td>0.950</td>\n",
       "      <td>0.950</td>\n",
       "    </tr>\n",
       "    <tr>\n",
       "      <th>8</th>\n",
       "      <td>Naive Bayes</td>\n",
       "      <td>0.900</td>\n",
       "      <td>0.907</td>\n",
       "      <td>0.900</td>\n",
       "      <td>0.869</td>\n",
       "    </tr>\n",
       "    <tr>\n",
       "      <th>9</th>\n",
       "      <td>Random Forest</td>\n",
       "      <td>0.998</td>\n",
       "      <td>0.998</td>\n",
       "      <td>0.998</td>\n",
       "      <td>0.998</td>\n",
       "    </tr>\n",
       "    <tr>\n",
       "      <th>10</th>\n",
       "      <td>Voting Classifier</td>\n",
       "      <td>0.996</td>\n",
       "      <td>0.997</td>\n",
       "      <td>0.996</td>\n",
       "      <td>0.997</td>\n",
       "    </tr>\n",
       "    <tr>\n",
       "      <th>11</th>\n",
       "      <td>CNN+BiLSTM</td>\n",
       "      <td>0.990</td>\n",
       "      <td>0.993</td>\n",
       "      <td>0.990</td>\n",
       "      <td>0.991</td>\n",
       "    </tr>\n",
       "    <tr>\n",
       "      <th>12</th>\n",
       "      <td>Stacking Classifier</td>\n",
       "      <td>1.000</td>\n",
       "      <td>1.000</td>\n",
       "      <td>1.000</td>\n",
       "      <td>1.000</td>\n",
       "    </tr>\n",
       "  </tbody>\n",
       "</table>\n",
       "</div>"
      ],
      "text/plain": [
       "                  ML Model  Accuracy  Precision  Recall  F1-Score\n",
       "0                      CNN     0.996      0.996   0.996     0.996\n",
       "1                     LSTM     0.793      1.000   0.793     0.885\n",
       "2                      RNN     0.793      1.000   0.793     0.885\n",
       "3                      GRU     0.793      1.000   0.793     0.885\n",
       "4             LSTM+RNN+GRU     0.890      0.993   0.990     0.991\n",
       "5            Decision Tree     0.996      0.998   0.996     0.997\n",
       "6      Logistic Regression     0.973      0.974   0.973     0.973\n",
       "7   Support Vector Machine     0.950      0.951   0.950     0.950\n",
       "8              Naive Bayes     0.900      0.907   0.900     0.869\n",
       "9            Random Forest     0.998      0.998   0.998     0.998\n",
       "10       Voting Classifier     0.996      0.997   0.996     0.997\n",
       "11              CNN+BiLSTM     0.990      0.993   0.990     0.991\n",
       "12     Stacking Classifier     1.000      1.000   1.000     1.000"
      ]
     },
     "execution_count": 126,
     "metadata": {},
     "output_type": "execute_result"
    }
   ],
   "source": [
    "result"
   ]
  },
  {
   "cell_type": "markdown",
   "metadata": {},
   "source": [
    "# Graph"
   ]
  },
  {
   "cell_type": "code",
   "execution_count": 127,
   "metadata": {},
   "outputs": [],
   "source": [
    "classifier = ML_Model\n",
    "y_pos = np.arange(len(classifier))"
   ]
  },
  {
   "cell_type": "markdown",
   "metadata": {},
   "source": [
    "# Accuracy"
   ]
  },
  {
   "cell_type": "code",
   "execution_count": 128,
   "metadata": {},
   "outputs": [
    {
     "data": {
      "image/png": "[encoded data removed]",
      "text/plain": [
       "<Figure size 432x288 with 1 Axes>"
      ]
     },
     "metadata": {
      "needs_background": "light"
     },
     "output_type": "display_data"
    }
   ],
   "source": [
    "import matplotlib.pyplot as plt2\n",
    "plt2.barh(y_pos, accuracy, align='center', alpha=0.5,color='blue')\n",
    "plt2.yticks(y_pos, classifier)\n",
    "plt2.xlabel('Accuracy Score')\n",
    "plt2.title('Classification Performance')\n",
    "plt2.show()"
   ]
  },
  {
   "cell_type": "markdown",
   "metadata": {},
   "source": [
    "# Precision"
   ]
  },
  {
   "cell_type": "code",
   "execution_count": 129,
   "metadata": {},
   "outputs": [
    {
     "data": {
      "image/png": "[encoded data removed]",
      "text/plain": [
       "<Figure size 432x288 with 1 Axes>"
      ]
     },
     "metadata": {
      "needs_background": "light"
     },
     "output_type": "display_data"
    }
   ],
   "source": [
    "plt2.barh(y_pos, precision, align='center', alpha=0.5,color='red')\n",
    "plt2.yticks(y_pos, classifier)\n",
    "plt2.xlabel('Precision Score')\n",
    "plt2.title('Classification Performance')\n",
    "plt2.show()"
   ]
  },
  {
   "cell_type": "markdown",
   "metadata": {},
   "source": [
    "# Recall"
   ]
  },
  {
   "cell_type": "code",
   "execution_count": 130,
   "metadata": {},
   "outputs": [
    {
     "data": {
      "image/png": "[encoded data removed]",
      "text/plain": [
       "<Figure size 432x288 with 1 Axes>"
      ]
     },
     "metadata": {
      "needs_background": "light"
     },
     "output_type": "display_data"
    }
   ],
   "source": [
    "plt2.barh(y_pos, recall, align='center', alpha=0.5,color='cyan')\n",
    "plt2.yticks(y_pos, classifier)\n",
    "plt2.xlabel('Recall Score')\n",
    "plt2.title('Classification Performance')\n",
    "plt2.show()"
   ]
  },
  {
   "cell_type": "markdown",
   "metadata": {},
   "source": [
    "# F1 Score"
   ]
  },
  {
   "cell_type": "code",
   "execution_count": 131,
   "metadata": {},
   "outputs": [
    {
     "data": {
      "image/png": "[encoded data removed]",
      "text/plain": [
       "<Figure size 432x288 with 1 Axes>"
      ]
     },
     "metadata": {
      "needs_background": "light"
     },
     "output_type": "display_data"
    }
   ],
   "source": [
    "plt2.barh(y_pos, f1score, align='center', alpha=0.5,color='magenta')\n",
    "plt2.yticks(y_pos, classifier)\n",
    "plt2.xlabel('F1 Score')\n",
    "plt2.title('Classification Performance')\n",
    "plt2.show()"
   ]
  },
  {
   "cell_type": "markdown",
   "metadata": {},
   "source": [
    "# Modelling"
   ]
  },
  {
   "cell_type": "code",
   "execution_count": 132,
   "metadata": {},
   "outputs": [
    {
     "data": {
      "text/plain": [
       "['model.sav']"
      ]
     },
     "execution_count": 132,
     "metadata": {},
     "output_type": "execute_result"
    }
   ],
   "source": [
    "import joblib\n",
    "filename = 'model.sav'\n",
    "joblib.dump(clf, filename)"
   ]
  },
  {
   "cell_type": "code",
   "execution_count": null,
   "metadata": {},
   "outputs": [],
   "source": []
  }
 ],
 "metadata": {
  "kernelspec": {
   "display_name": "Python 3",
   "language": "python",
   "name": "python3"
  },
  "language_info": {
   "codemirror_mode": {
    "name": "ipython",
    "version": 3
   },
   "file_extension": ".py",
   "mimetype": "text/x-python",
   "name": "python",
   "nbconvert_exporter": "python",
   "pygments_lexer": "ipython3",
   "version": "3.7.4"
  },
  "papermill": {
   "default_parameters": {},
   "duration": 955.220029,
   "end_time": "2022-10-30T17:01:52.999260",
   "environment_variables": {},
   "exception": null,
   "input_path": "__notebook__.ipynb",
   "output_path": "__notebook__.ipynb",
   "parameters": {},
   "start_time": "2022-10-30T16:45:57.779231",
   "version": "2.3.4"
  }
 },
 "nbformat": 4,
 "nbformat_minor": 5
}
